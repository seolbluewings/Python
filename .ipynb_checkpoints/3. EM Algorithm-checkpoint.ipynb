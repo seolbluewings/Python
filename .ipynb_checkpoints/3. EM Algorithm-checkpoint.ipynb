{
 "cells": [
  {
   "cell_type": "code",
   "execution_count": 146,
   "metadata": {},
   "outputs": [],
   "source": [
    "from scipy import stats\n",
    "import random\n",
    "import numpy as np\n",
    "import matplotlib.mlab as mlab\n",
    "import matplotlib.pyplot as plt"
   ]
  },
  {
   "cell_type": "code",
   "execution_count": 147,
   "metadata": {},
   "outputs": [],
   "source": [
    "random.seed(0)"
   ]
  },
  {
   "cell_type": "markdown",
   "metadata": {},
   "source": [
    "#### 1. 예제 데이터 생성"
   ]
  },
  {
   "cell_type": "code",
   "execution_count": 148,
   "metadata": {},
   "outputs": [],
   "source": [
    "z = np.random.binomial(1,0.5,3000)"
   ]
  },
  {
   "cell_type": "code",
   "execution_count": 149,
   "metadata": {},
   "outputs": [
    {
     "name": "stdout",
     "output_type": "stream",
     "text": [
      "1484 1516\n"
     ]
    }
   ],
   "source": [
    "n1 = (z==0).sum()\n",
    "n2 = (z==1).sum()\n",
    "print(n1,n2)"
   ]
  },
  {
   "cell_type": "code",
   "execution_count": 150,
   "metadata": {},
   "outputs": [],
   "source": [
    "mix = np.concatenate([np.random.normal(0,1,n2),np.random.normal(4,1,n1)])"
   ]
  },
  {
   "cell_type": "markdown",
   "metadata": {},
   "source": [
    "#### 2. 데이터 분포 확인"
   ]
  },
  {
   "cell_type": "code",
   "execution_count": 151,
   "metadata": {
    "scrolled": true
   },
   "outputs": [
    {
     "data": {
      "text/plain": [
       "(array([  9.,  26.,  67., 152., 238., 303., 296., 225., 125.,  78., 107.,\n",
       "        180., 282., 298., 286., 201.,  76.,  33.,  12.,   6.]),\n",
       " array([-3.11954434, -2.59450467, -2.06946499, -1.54442532, -1.01938565,\n",
       "        -0.49434598,  0.0306937 ,  0.55573337,  1.08077304,  1.60581271,\n",
       "         2.13085238,  2.65589206,  3.18093173,  3.7059714 ,  4.23101107,\n",
       "         4.75605075,  5.28109042,  5.80613009,  6.33116976,  6.85620943,\n",
       "         7.38124911]),\n",
       " <a list of 20 Patch objects>)"
      ]
     },
     "execution_count": 151,
     "metadata": {},
     "output_type": "execute_result"
    },
    {
     "data": {
      "image/png": "[encoded data removed]",
      "text/plain": [
       "<Figure size 432x288 with 1 Axes>"
      ]
     },
     "metadata": {
      "needs_background": "light"
     },
     "output_type": "display_data"
    }
   ],
   "source": [
    "plt.hist(mix,bins= 20)"
   ]
  },
  {
   "cell_type": "markdown",
   "metadata": {},
   "source": [
    "#### 3. EM알고리즘을 위한 초기값 등 필요값 설정"
   ]
  },
  {
   "cell_type": "code",
   "execution_count": 152,
   "metadata": {},
   "outputs": [],
   "source": [
    "ll_new = 1; ll_old = 0\n",
    "n = len(z)\n",
    "z_new = np.random.binomial(1,0.2,3000)\n",
    "pi = 0.8; mu1 = 2; mu2 = 5; sig1 = 2; sig2= 2\n",
    "iter = 1\n",
    "criterion = 1e-15"
   ]
  },
  {
   "cell_type": "markdown",
   "metadata": {},
   "source": [
    "#### 4. EM 알고리즘 시행"
   ]
  },
  {
   "cell_type": "code",
   "execution_count": 156,
   "metadata": {},
   "outputs": [
    {
     "name": "stdout",
     "output_type": "stream",
     "text": [
      "Algorithm converged, in : 21 iterations \n",
      "\n",
      "Estimated pi :  0.509 \n",
      "\n",
      "Estimated mu1 :  -0.017 \n",
      "\n",
      "Estimated mu2 :  4.028 \n",
      "\n",
      "Estimated sig1 :  1.028 \n",
      "\n",
      "Estimated sig2 :  0.967 \n",
      "\n"
     ]
    }
   ],
   "source": [
    "while (ll_new-ll_old > criterion):\n",
    "    z_old = z_new\n",
    "    pi_old = pi\n",
    "    mu1_old = mu1; mu2_old = mu2\n",
    "    sig1_old = sig1; sig2_old = sig2\n",
    "    ll_old = np.sum(z_old*(np.log(pi_old)+np.log(stats.norm(mu1_old,sig1_old).pdf(mix))))+np.sum((1-z_old)*(np.log(1-pi_old)+np.log(stats.norm(mu2_old,sig2_old).pdf(mix))))\n",
    "    \n",
    "    for i in range(len(z)):\n",
    "        ber_p = pi_old*stats.norm(mu1_old,sig1_old).pdf(mix[i])/(pi_old*stats.norm(mu1_old,sig1_old).pdf(mix[i])+ (1-pi_old)*stats.norm(mu2_old,sig2_old).pdf(mix[i]))    \n",
    "        z[i] = np.random.binomial(1,p=ber_p,size=1)\n",
    "    z_new = z    \n",
    "    \n",
    "    pi = np.sum(z_new)/n    \n",
    "    mu1 = np.sum(z_new*mix)/np.sum(z_new)\n",
    "    mu2 = np.sum((1-z_new)*mix)/np.sum(1-z_new)\n",
    "    sig1 = np.sqrt(np.sum(z_new*(mix-mu1_old)*(mix-mu1_old))/np.sum(z_new))\n",
    "    sig2 = np.sqrt(np.sum((1-z_new)*(mix-mu2_old)*(mix-mu2_old))/np.sum((1-z_new)))    \n",
    "    ll_new = np.sum(z_new*(np.log(pi)+np.log(stats.norm(mu1,sig1).pdf(mix))))+np.sum((1-z_new)*(np.log(1-pi)+np.log(stats.norm(mu2,sig2).pdf(mix))))\n",
    "\n",
    "    iter = iter + 1            \n",
    "\n",
    "print(\"Algorithm converged, in :\",iter,\"iterations \\n\")\n",
    "print(\"Estimated pi : \", round(pi,3), \"\\n\")\n",
    "print(\"Estimated mu1 : \", round(mu1,3), \"\\n\")\n",
    "print(\"Estimated mu2 : \", round(mu2,3), \"\\n\")\n",
    "print(\"Estimated sig1 : \", round(sig1,3), \"\\n\")\n",
    "print(\"Estimated sig2 : \", round(sig2,3), \"\\n\")    "
   ]
  },
  {
   "cell_type": "markdown",
   "metadata": {},
   "source": [
    "- EM 알고리즘을 통해 기존 우리가 데이터를 만들었을 때의 $\\pi$ = 0.5, $\\mu_{1}$ = 0, $\\mu_{2}$ =4, $\\sigma_{1}$ =1, $\\sigma_{2}$ =1 값의 근방의 값으로 값이 추정되는 것을 확인할 수 있다."
   ]
  }
 ],
 "metadata": {
  "kernelspec": {
   "display_name": "Python 3",
   "language": "python",
   "name": "python3"
  },
  "language_info": {
   "codemirror_mode": {
    "name": "ipython",
    "version": 3
   },
   "file_extension": ".py",
   "mimetype": "text/x-python",
   "name": "python",
   "nbconvert_exporter": "python",
   "pygments_lexer": "ipython3",
   "version": "3.7.3"
  }
 },
 "nbformat": 4,
 "nbformat_minor": 2
}
