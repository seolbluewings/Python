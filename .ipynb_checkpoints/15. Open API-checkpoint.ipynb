{
 "cells": [
  {
   "cell_type": "code",
   "execution_count": 9,
   "metadata": {},
   "outputs": [],
   "source": [
    "import requests\n",
    "import pandas as pd"
   ]
  },
  {
   "cell_type": "markdown",
   "metadata": {},
   "source": [
    "#### 자주 사용하게 될 API 인증키 변수 선언"
   ]
  },
  {
   "cell_type": "code",
   "execution_count": 71,
   "metadata": {},
   "outputs": [],
   "source": [
    "api_key = '576d65545273656f3637766762475a'"
   ]
  },
  {
   "cell_type": "code",
   "execution_count": 82,
   "metadata": {},
   "outputs": [],
   "source": [
    "url = 'http://openapi.seoul.go.kr:8088/{}/json/Corona19Status/3000/3500/'.format(api_key)"
   ]
  },
  {
   "cell_type": "markdown",
   "metadata": {},
   "source": [
    "#### api_key 변수가 url에 제대로 추가되었는지 확인하기"
   ]
  },
  {
   "cell_type": "code",
   "execution_count": 83,
   "metadata": {},
   "outputs": [
    {
     "name": "stdout",
     "output_type": "stream",
     "text": [
      "http://openapi.seoul.go.kr:8088/576d65545273656f3637766762475a/json/Corona19Status/3000/3500/\n"
     ]
    }
   ],
   "source": [
    "print(url)"
   ]
  },
  {
   "cell_type": "code",
   "execution_count": 84,
   "metadata": {},
   "outputs": [],
   "source": [
    "dt = requests.get(url).json()"
   ]
  },
  {
   "cell_type": "code",
   "execution_count": 87,
   "metadata": {},
   "outputs": [
    {
     "name": "stdout",
     "output_type": "stream",
     "text": [
      "{'CORONA19_ID': '35764', 'CORONA19_DATE': '2021-04-19', 'CORONA19_NO': '', 'CORONA19_COUNTRY': '', 'CORONA19_PERSONAL': '', 'CORONA19_AREA': '양천구', 'CORONA19_TRAVEL_HISTORY': '', 'CORONA19_CONTACT_HISTORY': '감염경로 조사중', 'CORONA19_CORRECTIVE': '', 'CORONA19_LEAVE_STATUS': '퇴원', 'CORONA19_MOVING_PATH': '', 'CORONA19_IDATE': '2021-05-05 10:59:26', 'CORONA19_MDATE': '2021-05-05 10:59:26'}\n"
     ]
    }
   ],
   "source": [
    "print(dt['Corona19Status']['row'][0])"
   ]
  },
  {
   "cell_type": "markdown",
   "metadata": {},
   "source": [
    "### Open API 호출 함수"
   ]
  },
  {
   "cell_type": "code",
   "execution_count": 88,
   "metadata": {},
   "outputs": [],
   "source": [
    "def seoul_op_api_dt(url, service_code):\n",
    "    dt = None\n",
    "    try:\n",
    "        dt_dict = requests.get(url).json()\n",
    "        dt_result = dt_dict[service_code]\n",
    "        code = dt_result['RESULT']['CODE']\n",
    "        if code == 'INFO-000':\n",
    "            dt = dt_result['row']\n",
    "    except:\n",
    "        pass\n",
    "    return dt"
   ]
  },
  {
   "cell_type": "code",
   "execution_count": 89,
   "metadata": {},
   "outputs": [],
   "source": [
    "corona_dt = seoul_op_api_dt(url,'Corona19Status')"
   ]
  },
  {
   "cell_type": "markdown",
   "metadata": {},
   "source": [
    "#### 엑셀 형태와 유사하게 pandas를 이용해 DataFrame 형태로 변환"
   ]
  },
  {
   "cell_type": "code",
   "execution_count": 90,
   "metadata": {},
   "outputs": [],
   "source": [
    "columns = ['CORONA19_ID','CORONA19_DATE','CORONA19_AREA','CORONA19_TRAVEL_HISTORY'\n",
    "            ,'CORONA19_CORRECTIVE','CORONA19_LEAVE_STATUS','CORONA19_MOVING_PATH'\n",
    "            ,'CORONA19_IDATE','CORONA19_MDATE']\n",
    "corona_df = pd.DataFrame(corona_dt,columns = columns)"
   ]
  },
  {
   "cell_type": "code",
   "execution_count": 93,
   "metadata": {},
   "outputs": [
    {
     "data": {
      "text/html": [
       "<div>\n",
       "<style scoped>\n",
       "    .dataframe tbody tr th:only-of-type {\n",
       "        vertical-align: middle;\n",
       "    }\n",
       "\n",
       "    .dataframe tbody tr th {\n",
       "        vertical-align: top;\n",
       "    }\n",
       "\n",
       "    .dataframe thead th {\n",
       "        text-align: right;\n",
       "    }\n",
       "</style>\n",
       "<table border=\"1\" class=\"dataframe\">\n",
       "  <thead>\n",
       "    <tr style=\"text-align: right;\">\n",
       "      <th></th>\n",
       "      <th>CORONA19_ID</th>\n",
       "      <th>CORONA19_DATE</th>\n",
       "      <th>CORONA19_AREA</th>\n",
       "      <th>CORONA19_TRAVEL_HISTORY</th>\n",
       "      <th>CORONA19_CORRECTIVE</th>\n",
       "      <th>CORONA19_LEAVE_STATUS</th>\n",
       "      <th>CORONA19_MOVING_PATH</th>\n",
       "      <th>CORONA19_IDATE</th>\n",
       "      <th>CORONA19_MDATE</th>\n",
       "    </tr>\n",
       "  </thead>\n",
       "  <tbody>\n",
       "    <tr>\n",
       "      <th>0</th>\n",
       "      <td>35764</td>\n",
       "      <td>2021-04-19</td>\n",
       "      <td>양천구</td>\n",
       "      <td></td>\n",
       "      <td></td>\n",
       "      <td>퇴원</td>\n",
       "      <td></td>\n",
       "      <td>2021-05-05 10:59:26</td>\n",
       "      <td>2021-05-05 10:59:26</td>\n",
       "    </tr>\n",
       "    <tr>\n",
       "      <th>1</th>\n",
       "      <td>35763</td>\n",
       "      <td>2021-04-19</td>\n",
       "      <td>은평구</td>\n",
       "      <td></td>\n",
       "      <td></td>\n",
       "      <td>-</td>\n",
       "      <td></td>\n",
       "      <td>2021-05-05 10:59:26</td>\n",
       "      <td>2021-05-05 10:59:26</td>\n",
       "    </tr>\n",
       "    <tr>\n",
       "      <th>2</th>\n",
       "      <td>35762</td>\n",
       "      <td>2021-04-19</td>\n",
       "      <td>서대문구</td>\n",
       "      <td></td>\n",
       "      <td></td>\n",
       "      <td>퇴원</td>\n",
       "      <td></td>\n",
       "      <td>2021-05-05 10:59:26</td>\n",
       "      <td>2021-05-05 10:59:26</td>\n",
       "    </tr>\n",
       "    <tr>\n",
       "      <th>3</th>\n",
       "      <td>35761</td>\n",
       "      <td>2021-04-19</td>\n",
       "      <td>은평구</td>\n",
       "      <td></td>\n",
       "      <td></td>\n",
       "      <td>퇴원</td>\n",
       "      <td></td>\n",
       "      <td>2021-05-05 10:59:26</td>\n",
       "      <td>2021-05-05 10:59:26</td>\n",
       "    </tr>\n",
       "    <tr>\n",
       "      <th>4</th>\n",
       "      <td>35760</td>\n",
       "      <td>2021-04-19</td>\n",
       "      <td>타시도</td>\n",
       "      <td></td>\n",
       "      <td></td>\n",
       "      <td>-</td>\n",
       "      <td></td>\n",
       "      <td>2021-05-05 10:59:26</td>\n",
       "      <td>2021-05-05 10:59:26</td>\n",
       "    </tr>\n",
       "    <tr>\n",
       "      <th>5</th>\n",
       "      <td>35759</td>\n",
       "      <td>2021-04-19</td>\n",
       "      <td>마포구</td>\n",
       "      <td></td>\n",
       "      <td></td>\n",
       "      <td>퇴원</td>\n",
       "      <td></td>\n",
       "      <td>2021-05-05 10:59:26</td>\n",
       "      <td>2021-05-05 10:59:26</td>\n",
       "    </tr>\n",
       "    <tr>\n",
       "      <th>6</th>\n",
       "      <td>35758</td>\n",
       "      <td>2021-04-19</td>\n",
       "      <td>서초구</td>\n",
       "      <td></td>\n",
       "      <td></td>\n",
       "      <td>-</td>\n",
       "      <td></td>\n",
       "      <td>2021-05-05 10:59:26</td>\n",
       "      <td>2021-05-05 10:59:26</td>\n",
       "    </tr>\n",
       "    <tr>\n",
       "      <th>7</th>\n",
       "      <td>35757</td>\n",
       "      <td>2021-04-19</td>\n",
       "      <td>성북구</td>\n",
       "      <td></td>\n",
       "      <td></td>\n",
       "      <td>퇴원</td>\n",
       "      <td></td>\n",
       "      <td>2021-05-05 10:59:26</td>\n",
       "      <td>2021-05-05 10:59:26</td>\n",
       "    </tr>\n",
       "    <tr>\n",
       "      <th>8</th>\n",
       "      <td>35756</td>\n",
       "      <td>2021-04-19</td>\n",
       "      <td>타시도</td>\n",
       "      <td></td>\n",
       "      <td></td>\n",
       "      <td>-</td>\n",
       "      <td></td>\n",
       "      <td>2021-05-05 10:59:26</td>\n",
       "      <td>2021-05-05 10:59:26</td>\n",
       "    </tr>\n",
       "    <tr>\n",
       "      <th>9</th>\n",
       "      <td>35755</td>\n",
       "      <td>2021-04-19</td>\n",
       "      <td>타시도</td>\n",
       "      <td></td>\n",
       "      <td></td>\n",
       "      <td>-</td>\n",
       "      <td></td>\n",
       "      <td>2021-05-05 10:59:26</td>\n",
       "      <td>2021-05-05 10:59:26</td>\n",
       "    </tr>\n",
       "  </tbody>\n",
       "</table>\n",
       "</div>"
      ],
      "text/plain": [
       "  CORONA19_ID CORONA19_DATE CORONA19_AREA CORONA19_TRAVEL_HISTORY  \\\n",
       "0       35764    2021-04-19           양천구                           \n",
       "1       35763    2021-04-19           은평구                           \n",
       "2       35762    2021-04-19          서대문구                           \n",
       "3       35761    2021-04-19           은평구                           \n",
       "4       35760    2021-04-19           타시도                           \n",
       "5       35759    2021-04-19           마포구                           \n",
       "6       35758    2021-04-19           서초구                           \n",
       "7       35757    2021-04-19           성북구                           \n",
       "8       35756    2021-04-19           타시도                           \n",
       "9       35755    2021-04-19           타시도                           \n",
       "\n",
       "  CORONA19_CORRECTIVE CORONA19_LEAVE_STATUS CORONA19_MOVING_PATH  \\\n",
       "0                                        퇴원                        \n",
       "1                                         -                        \n",
       "2                                        퇴원                        \n",
       "3                                        퇴원                        \n",
       "4                                         -                        \n",
       "5                                        퇴원                        \n",
       "6                                         -                        \n",
       "7                                        퇴원                        \n",
       "8                                         -                        \n",
       "9                                         -                        \n",
       "\n",
       "        CORONA19_IDATE       CORONA19_MDATE  \n",
       "0  2021-05-05 10:59:26  2021-05-05 10:59:26  \n",
       "1  2021-05-05 10:59:26  2021-05-05 10:59:26  \n",
       "2  2021-05-05 10:59:26  2021-05-05 10:59:26  \n",
       "3  2021-05-05 10:59:26  2021-05-05 10:59:26  \n",
       "4  2021-05-05 10:59:26  2021-05-05 10:59:26  \n",
       "5  2021-05-05 10:59:26  2021-05-05 10:59:26  \n",
       "6  2021-05-05 10:59:26  2021-05-05 10:59:26  \n",
       "7  2021-05-05 10:59:26  2021-05-05 10:59:26  \n",
       "8  2021-05-05 10:59:26  2021-05-05 10:59:26  \n",
       "9  2021-05-05 10:59:26  2021-05-05 10:59:26  "
      ]
     },
     "execution_count": 93,
     "metadata": {},
     "output_type": "execute_result"
    }
   ],
   "source": [
    "corona_df.head(10)"
   ]
  }
 ],
 "metadata": {
  "kernelspec": {
   "display_name": "Python 3",
   "language": "python",
   "name": "python3"
  },
  "language_info": {
   "codemirror_mode": {
    "name": "ipython",
    "version": 3
   },
   "file_extension": ".py",
   "mimetype": "text/x-python",
   "name": "python",
   "nbconvert_exporter": "python",
   "pygments_lexer": "ipython3",
   "version": "3.7.3"
  }
 },
 "nbformat": 4,
 "nbformat_minor": 2
}
