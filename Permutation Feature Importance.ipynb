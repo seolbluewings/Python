{
 "cells": [
  {
   "cell_type": "code",
   "execution_count": 72,
   "metadata": {},
   "outputs": [],
   "source": [
    "import matplotlib.pyplot as plt\n",
    "import numpy as np\n",
    "import pandas as pd\n",
    "\n",
    "from sklearn.datasets import fetch_openml\n",
    "from sklearn.ensemble import RandomForestClassifier\n",
    "from sklearn.impute import SimpleImputer\n",
    "from sklearn.inspection import permutation_importance\n",
    "from sklearn.compose import ColumnTransformer\n",
    "from sklearn.model_selection import train_test_split\n",
    "from sklearn.pipeline import Pipeline\n",
    "from sklearn.preprocessing import OneHotEncoder"
   ]
  },
  {
   "cell_type": "markdown",
   "metadata": {},
   "source": [
    "- Titanic 데이터에 Random Forest 모델을 사용하여 불순도 기반의 MDI 방식과 Permutation Feature Importance 방식을 비교해보고자 함 \n",
    "- 불순도 기반의 MDI 방식이 수치형 변수의 중요성을 과대평가한다는 케이스를 보여주고자 함\n",
    "- titanic 데이터를 활용, 다만 titanic 데이터의 변수들과 상관성이 없는(not correlated) 2가지 random variable을 생성\n",
    "> random_cat : [0,1,2] 중 하나의 값을 갖는 categorical variable <br>\n",
    "> random_num : 가우시안 분포를 활용한 연속형 변수 생성"
   ]
  },
  {
   "cell_type": "markdown",
   "metadata": {},
   "source": [
    "- default 형태의 RandomForest를 이용한 모델을 적합시킬 것\n",
    "- 사전에 데이터는 다음과 같이 처리하기로 한다\n",
    "> categorical variable : OneHotEncoder 적용 (옵션은 새로운 범주를 마주하면 0으로 치환시키는 옵션을 설정) <br>\n",
    "> continuous variable : 결측치가 존재하면 평균값으로 대체하도록 설정"
   ]
  },
  {
   "cell_type": "code",
   "execution_count": 73,
   "metadata": {},
   "outputs": [
    {
     "data": {
      "text/plain": [
       "Pipeline(steps=[('preprocess',\n",
       "                 ColumnTransformer(transformers=[('cat', OneHotEncoder(),\n",
       "                                                  ['pclass', 'sex', 'embarked',\n",
       "                                                   'random_cat']),\n",
       "                                                 ('num',\n",
       "                                                  Pipeline(steps=[('imputer',\n",
       "                                                                   SimpleImputer())]),\n",
       "                                                  ['age', 'sibsp', 'parch',\n",
       "                                                   'fare', 'random_num'])])),\n",
       "                ('classifier', RandomForestClassifier())])"
      ]
     },
     "execution_count": 73,
     "metadata": {},
     "output_type": "execute_result"
    }
   ],
   "source": [
    "X,y = fetch_openml(\"titanic\", version = 1,  as_frame = True , return_X_y = True)\n",
    "rng = np.random.RandomState(seed = 50120057)\n",
    "X['random_cat'] = rng.randint(3, size = X.shape[0])\n",
    "X['random_num'] = rng.randn(X.shape[0])\n",
    "\n",
    "ctgr_col = ['pclass', 'sex', 'embarked', 'random_cat']\n",
    "num_col   = ['age', 'sibsp', 'parch', 'fare', 'random_num']\n",
    "\n",
    "X = X[ctgr_col + num_col]\n",
    "\n",
    "X_train, X_test, y_train, y_test = train_test_split(X, y, stratify = y, random_state = 50120057)\n",
    "\n",
    "ctgr_encoder = OneHotEncoder()\n",
    "num_pipe = Pipeline([('imputer', SimpleImputer(strategy = 'mean'))])\n",
    "\n",
    "preprocessing = ColumnTransformer([('cat', ctgr_encoder, ctgr_col)\n",
    "                                  ,('num',num_pipe, num_col)])\n",
    "\n",
    "rf = Pipeline([('preprocess',preprocessing),('classifier', RandomForestClassifier())])\n",
    "\n",
    "rf.fit(X_train,y_train)"
   ]
  },
  {
   "cell_type": "markdown",
   "metadata": {},
   "source": [
    "### MDI 활용, 변수 중요도"
   ]
  },
  {
   "cell_type": "markdown",
   "metadata": {},
   "source": [
    "- 아래의 코드를 실행시킨 결과, random하게 생성한 숫자가 2번째로 높은 중요도를 보이는 것으로 나타남.\n",
    "- high cardinality 변수에서는 불순도 기반의 변수 중요도는 bias 될 수 있다\n",
    "- 또한 불순도 기반의 변수 중요도는 훈련 데이터를 대상으로 산출하기 때문에, test set에서 변수의 예측을 위해 필요한 변수 중요도는 반영되지 못한다"
   ]
  },
  {
   "cell_type": "code",
   "execution_count": 74,
   "metadata": {
    "scrolled": true
   },
   "outputs": [
    {
     "data": {
      "image/png": "[encoded data removed]",
      "text/plain": [
       "<Figure size 432x288 with 1 Axes>"
      ]
     },
     "metadata": {
      "needs_background": "light"
     },
     "output_type": "display_data"
    }
   ],
   "source": [
    "ohe = (rf.named_steps['preprocess'].named_transformers_['cat'])\n",
    "feature_names = ohe.get_feature_names(input_features=ctgr_col)\n",
    "feature_names = np.r_[feature_names, num_col]\n",
    "\n",
    "tree_feature_importances = (rf.named_steps['classifier'].feature_importances_)\n",
    "sorted_idx = tree_feature_importances.argsort()\n",
    "\n",
    "y_ticks = np.arange(0, len(feature_names))\n",
    "fig, ax = plt.subplots()\n",
    "ax.barh(y_ticks, tree_feature_importances[sorted_idx])\n",
    "ax.set_yticks(y_ticks)\n",
    "ax.set_yticklabels(feature_names[sorted_idx])\n",
    "ax.set_title(\"Random Forest Feature Importances (MDI)\")\n",
    "fig.tight_layout()\n",
    "plt.show()"
   ]
  },
  {
   "cell_type": "markdown",
   "metadata": {},
   "source": [
    "- 각 변수별로 n_repeats 값만큼 permutation을 진행한다.\n",
    "- 따라서 각 변수별로 Permutation 처리하여 noise 로서 역할을 하게 된다.\n",
    "- 이 결과, 훈련 데이터에서 MDI로 변수 중요도를 체크하였을 때, random_num이 중요한 변수로 선정된 것과 달리 변수의 중요도가 많이 떨어진 것을 확인할 수 있다."
   ]
  },
  {
   "cell_type": "code",
   "execution_count": 75,
   "metadata": {},
   "outputs": [
    {
     "data": {
      "image/png": "[encoded data removed]",
      "text/plain": [
       "<Figure size 432x288 with 1 Axes>"
      ]
     },
     "metadata": {
      "needs_background": "light"
     },
     "output_type": "display_data"
    }
   ],
   "source": [
    "result = permutation_importance(rf, X_train, y_train, n_repeats=10,\n",
    "                                random_state=50120057, n_jobs=2)\n",
    "sorted_idx = result.importances_mean.argsort()\n",
    "\n",
    "fig, ax = plt.subplots()\n",
    "ax.boxplot(result.importances[sorted_idx].T,\n",
    "           vert=False, labels=X_test.columns[sorted_idx])\n",
    "ax.set_title(\"Permutation Importances (test set)\")\n",
    "fig.tight_layout()\n",
    "plt.show()"
   ]
  }
 ],
 "metadata": {
  "kernelspec": {
   "display_name": "Python 3",
   "language": "python",
   "name": "python3"
  },
  "language_info": {
   "codemirror_mode": {
    "name": "ipython",
    "version": 3
   },
   "file_extension": ".py",
   "mimetype": "text/x-python",
   "name": "python",
   "nbconvert_exporter": "python",
   "pygments_lexer": "ipython3",
   "version": "3.7.3"
  }
 },
 "nbformat": 4,
 "nbformat_minor": 2
}
