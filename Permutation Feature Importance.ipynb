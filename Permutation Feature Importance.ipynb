{
 "cells": [
  {
   "cell_type": "code",
   "execution_count": 1,
   "metadata": {},
   "outputs": [],
   "source": [
    "import matplotlib.pyplot as plt\n",
    "import numpy as np\n",
    "\n",
    "from sklearn.datasets import fetch_openml\n",
    "from sklearn.ensemble import RandomForestClassifier\n",
    "from sklearn.impute import SimpleImputer\n",
    "from sklearn.inspection import permutation_importance\n",
    "from sklearn.compose import ColumnTransformer\n",
    "from sklearn.model_selection import train_test_split\n",
    "from sklearn.pipeline import Pipeline\n",
    "from sklearn.preprocessing import OneHotEncoder"
   ]
  },
  {
   "cell_type": "markdown",
   "metadata": {},
   "source": [
    "- Titanic 데이터에 Random Forest 모델을 사용하여 불순도 기반의 MDI 방식과 Permutation Feature Importance 방식을 비교해보고자 함 \n",
    "- 불순도 기반의 MDI 방식이 수치형 변수의 중요성을 과대평가한다는 케이스를 보여주고자 함\n",
    "- titanic 데이터를 활용, 다만 titanic 데이터의 변수들과 상관성이 없는(not correlated) 2가지 random variable을 생성\n",
    "> random_cat : [0,1,2] 중 하나의 값을 갖는 categorical variable <br>\n",
    "> random_num : 가우시안 분포를 활용한 연속형 변수 생성"
   ]
  },
  {
   "cell_type": "markdown",
   "metadata": {},
   "source": [
    "- default 형태의 RandomForest를 이용한 모델을 적합시킬 것\n",
    "- 사전에 데이터는 다음과 같이 처리하기로 한다\n",
    "> categorical variable : OneHotEncoder 적용 (옵션은 새로운 범주를 마주하면 0으로 치환시키는 옵션을 설정) <br>\n",
    "> continuous variable : 결측치가 존재하면 평균값으로 대체하도록 설정"
   ]
  },
  {
   "cell_type": "code",
   "execution_count": 2,
   "metadata": {},
   "outputs": [
    {
     "data": {
      "text/plain": [
       "Pipeline(steps=[('preprocess',\n",
       "                 ColumnTransformer(transformers=[('cat', OneHotEncoder(),\n",
       "                                                  ['pclass', 'sex', 'embarked',\n",
       "                                                   'random_cat']),\n",
       "                                                 ('num',\n",
       "                                                  Pipeline(steps=[('imputer',\n",
       "                                                                   SimpleImputer())]),\n",
       "                                                  ['age', 'sibsp', 'parch',\n",
       "                                                   'fare', 'random_num'])])),\n",
       "                ('classifier', RandomForestClassifier())])"
      ]
     },
     "execution_count": 2,
     "metadata": {},
     "output_type": "execute_result"
    }
   ],
   "source": [
    "X,y = fetch_openml(\"titanic\", version = 1,  as_frame = True , return_X_y = True)\n",
    "rng = np.random.RandomState(seed = 50120057)\n",
    "X['random_cat'] = rng.randint(3, size = X.shape[0])\n",
    "X['random_num'] = rng.randn(X.shape[0])\n",
    "\n",
    "ctgr_col = ['pclass', 'sex', 'embarked', 'random_cat']\n",
    "num_col   = ['age', 'sibsp', 'parch', 'fare', 'random_num']\n",
    "\n",
    "X = X[ctgr_col + num_col]\n",
    "\n",
    "X_train, X_test, y_train, y_test = train_test_split(X, y, stratify = y, random_state = 50120057)\n",
    "\n",
    "ctgr_encoder = OneHotEncoder()\n",
    "num_pipe = Pipeline([('imputer', SimpleImputer(strategy = 'mean'))])\n",
    "\n",
    "preprocessing = ColumnTransformer([('cat', ctgr_encoder, ctgr_col)\n",
    "                                  ,('num',num_pipe, num_col)])\n",
    "\n",
    "rf = Pipeline([('preprocess',preprocessing),('classifier', RandomForestClassifier())])\n",
    "\n",
    "rf.fit(X_train,y_train)"
   ]
  },
  {
   "cell_type": "markdown",
   "metadata": {},
   "source": [
    "### MDI 활용, 변수 중요도"
   ]
  },
  {
   "cell_type": "code",
   "execution_count": null,
   "metadata": {},
   "outputs": [],
   "source": []
  },
  {
   "cell_type": "code",
   "execution_count": null,
   "metadata": {},
   "outputs": [],
   "source": []
  }
 ],
 "metadata": {
  "kernelspec": {
   "display_name": "Python 3",
   "language": "python",
   "name": "python3"
  },
  "language_info": {
   "codemirror_mode": {
    "name": "ipython",
    "version": 3
   },
   "file_extension": ".py",
   "mimetype": "text/x-python",
   "name": "python",
   "nbconvert_exporter": "python",
   "pygments_lexer": "ipython3",
   "version": "3.7.3"
  }
 },
 "nbformat": 4,
 "nbformat_minor": 2
}
