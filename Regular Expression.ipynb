{
 "cells": [
  {
   "cell_type": "code",
   "execution_count": 1,
   "id": "ee190822",
   "metadata": {},
   "outputs": [],
   "source": [
    "import re"
   ]
  },
  {
   "cell_type": "markdown",
   "id": "b35bd2c7",
   "metadata": {},
   "source": [
    "#### 문자열 추출"
   ]
  },
  {
   "cell_type": "code",
   "execution_count": 2,
   "id": "af969e16",
   "metadata": {},
   "outputs": [
    {
     "name": "stdout",
     "output_type": "stream",
     "text": [
      "['2004', '2008']\n"
     ]
    }
   ],
   "source": [
    "x = 'Suwon Bluewings won th K League in 2004 and 2008'\n",
    "y = re.findall('[0-9]+',x)\n",
    "print(y)"
   ]
  },
  {
   "cell_type": "markdown",
   "id": "84c249be",
   "metadata": {},
   "source": [
    "#### Greedy, Non-Greedy 방식 비교"
   ]
  },
  {
   "cell_type": "code",
   "execution_count": 18,
   "id": "24895026",
   "metadata": {},
   "outputs": [
    {
     "name": "stdout",
     "output_type": "stream",
     "text": [
      "['League : 1998,1999,2004,2008 / FA Cup : 2002,2009,2010,2016,2019 /']\n"
     ]
    }
   ],
   "source": [
    "x = 'League : 1998,1999,2004,2008 / FA Cup : 2002,2009,2010,2016,2019 /' \n",
    "y= re.findall('^L.+/',x)\n",
    "print(y)"
   ]
  },
  {
   "cell_type": "code",
   "execution_count": 19,
   "id": "e29389ba",
   "metadata": {},
   "outputs": [
    {
     "name": "stdout",
     "output_type": "stream",
     "text": [
      "['League : 1998,1999,2004,2008 ']\n"
     ]
    }
   ],
   "source": [
    "x = 'League : 1998,1999,2004,2008 / FA Cup : 2002,2009,2010,2016,2019' \n",
    "y= re.findall('(^L.+?)/',x)\n",
    "print(y)"
   ]
  },
  {
   "cell_type": "markdown",
   "id": "fe47076d",
   "metadata": {},
   "source": [
    "#### 실제 활용"
   ]
  },
  {
   "cell_type": "code",
   "execution_count": 35,
   "id": "53b14c57",
   "metadata": {},
   "outputs": [
    {
     "name": "stdout",
     "output_type": "stream",
     "text": [
      "['seolbluewings@wooricard.com']\n"
     ]
    }
   ],
   "source": [
    "lin = 'From seolbluewings@wooricard.com Wed May 18 08:55:34 2022'\n",
    "y = re.findall('^From ([^ ]+@[^ ]+)',lin)\n",
    "print(y)"
   ]
  },
  {
   "cell_type": "markdown",
   "id": "fad4d611",
   "metadata": {},
   "source": [
    "#### 주민번호 추출하여 뒷자리를 *로 변환"
   ]
  },
  {
   "cell_type": "code",
   "execution_count": 4,
   "id": "9d28691f",
   "metadata": {},
   "outputs": [
    {
     "name": "stdout",
     "output_type": "stream",
     "text": [
      "\n",
      "    park : 930208-*******\n",
      "    kim : 870205-*******\n",
      "\n"
     ]
    }
   ],
   "source": [
    "data = \"\"\"\n",
    "    park : 930208-1083475\n",
    "    kim : 870205-2038674\n",
    "\"\"\"\n",
    "\n",
    "ps_no = re.compile(\"(\\d{6})[-]\\d{7}\")\n",
    "print(ps_no.sub(\"\\g<1>-*******\" ,data))"
   ]
  },
  {
   "cell_type": "code",
   "execution_count": null,
   "id": "2e2762b5",
   "metadata": {},
   "outputs": [],
   "source": []
  }
 ],
 "metadata": {
  "kernelspec": {
   "display_name": "Python 3 (ipykernel)",
   "language": "python",
   "name": "python3"
  },
  "language_info": {
   "codemirror_mode": {
    "name": "ipython",
    "version": 3
   },
   "file_extension": ".py",
   "mimetype": "text/x-python",
   "name": "python",
   "nbconvert_exporter": "python",
   "pygments_lexer": "ipython3",
   "version": "3.9.7"
  }
 },
 "nbformat": 4,
 "nbformat_minor": 5
}
