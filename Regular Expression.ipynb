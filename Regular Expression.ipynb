{
 "cells": [
  {
   "cell_type": "code",
   "execution_count": 1,
   "id": "ee190822",
   "metadata": {},
   "outputs": [],
   "source": [
    "import re"
   ]
  },
  {
   "cell_type": "markdown",
   "id": "b35bd2c7",
   "metadata": {},
   "source": [
    "#### 문자열 추출"
   ]
  },
  {
   "cell_type": "code",
   "execution_count": 2,
   "id": "af969e16",
   "metadata": {},
   "outputs": [
    {
     "name": "stdout",
     "output_type": "stream",
     "text": [
      "['2004', '2008']\n"
     ]
    }
   ],
   "source": [
    "x = 'Suwon Bluewings won th K League in 2004 and 2008'\n",
    "y = re.findall('[0-9]+',x)\n",
    "print(y)"
   ]
  },
  {
   "cell_type": "markdown",
   "id": "84c249be",
   "metadata": {},
   "source": [
    "#### Greedy, Non-Greedy 방식 비교"
   ]
  },
  {
   "cell_type": "code",
   "execution_count": 18,
   "id": "24895026",
   "metadata": {},
   "outputs": [
    {
     "name": "stdout",
     "output_type": "stream",
     "text": [
      "['League : 1998,1999,2004,2008 / FA Cup : 2002,2009,2010,2016,2019 /']\n"
     ]
    }
   ],
   "source": [
    "x = 'League : 1998,1999,2004,2008 / FA Cup : 2002,2009,2010,2016,2019 /' \n",
    "y= re.findall('^L.+/',x)\n",
    "print(y)"
   ]
  },
  {
   "cell_type": "code",
   "execution_count": 19,
   "id": "e29389ba",
   "metadata": {},
   "outputs": [
    {
     "name": "stdout",
     "output_type": "stream",
     "text": [
      "['League : 1998,1999,2004,2008 ']\n"
     ]
    }
   ],
   "source": [
    "x = 'League : 1998,1999,2004,2008 / FA Cup : 2002,2009,2010,2016,2019' \n",
    "y= re.findall('(^L.+?)/',x)\n",
    "print(y)"
   ]
  },
  {
   "cell_type": "markdown",
   "id": "fe47076d",
   "metadata": {},
   "source": [
    "#### 실제 활용"
   ]
  },
  {
   "cell_type": "code",
   "execution_count": 35,
   "id": "53b14c57",
   "metadata": {},
   "outputs": [
    {
     "name": "stdout",
     "output_type": "stream",
     "text": [
      "['seolbluewings@wooricard.com']\n"
     ]
    }
   ],
   "source": [
    "lin = 'From seolbluewings@wooricard.com Wed May 18 08:55:34 2022'\n",
    "y = re.findall('^From ([^ ]+@[^ ]+)',lin)\n",
    "print(y)"
   ]
  }
 ],
 "metadata": {
  "kernelspec": {
   "display_name": "Python 3 (ipykernel)",
   "language": "python",
   "name": "python3"
  },
  "language_info": {
   "codemirror_mode": {
    "name": "ipython",
    "version": 3
   },
   "file_extension": ".py",
   "mimetype": "text/x-python",
   "name": "python",
   "nbconvert_exporter": "python",
   "pygments_lexer": "ipython3",
   "version": "3.9.7"
  }
 },
 "nbformat": 4,
 "nbformat_minor": 5
}
