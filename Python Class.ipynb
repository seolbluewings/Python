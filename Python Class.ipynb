{
 "cells": [
  {
   "cell_type": "markdown",
   "metadata": {},
   "source": [
    "### Python Class"
   ]
  },
  {
   "cell_type": "markdown",
   "metadata": {},
   "source": [
    "- StarCraft Terran 유닛을 만들고자 하는데 Class 선언 없이 진행한다면?"
   ]
  },
  {
   "cell_type": "code",
   "execution_count": 1,
   "metadata": {},
   "outputs": [],
   "source": [
    "# 마린 : 공격 유닛, 군인\n",
    "name = 'marine' # Unit 이름\n",
    "hp = 40 # Unit HP\n",
    "damage = 6 # Unit 공격력"
   ]
  },
  {
   "cell_type": "code",
   "execution_count": 3,
   "metadata": {},
   "outputs": [
    {
     "name": "stdout",
     "output_type": "stream",
     "text": [
      "marine 유닛이 생성되었습니다.\n",
      "체력 40, 공격력 6\n",
      "\n"
     ]
    }
   ],
   "source": [
    "print(\"{} 유닛이 생성되었습니다.\".format(name))\n",
    "print(\"체력 {0}, 공격력 {1}\\n\".format(hp,damage))"
   ]
  },
  {
   "cell_type": "code",
   "execution_count": 4,
   "metadata": {},
   "outputs": [],
   "source": [
    "# 시즈 탱크 : 공격 유닛, 탱크, 일반/시즈 모드\n",
    "tank_name = 'siege_tank'\n",
    "tank_hp = 150\n",
    "tank_damage = 30"
   ]
  },
  {
   "cell_type": "code",
   "execution_count": 5,
   "metadata": {},
   "outputs": [
    {
     "name": "stdout",
     "output_type": "stream",
     "text": [
      "siege_tank 유닛이 생성되었습니다.\n",
      "체력 150, 공격력 30\n",
      "\n"
     ]
    }
   ],
   "source": [
    "print(\"{} 유닛이 생성되었습니다.\".format(tank_name))\n",
    "print(\"체력 {0}, 공격력 {1}\\n\".format(tank_hp,tank_damage))"
   ]
  },
  {
   "cell_type": "code",
   "execution_count": 6,
   "metadata": {},
   "outputs": [
    {
     "name": "stdout",
     "output_type": "stream",
     "text": [
      "marine : 5시 방향으로 적군을 공격 합니다. [공격력6]\n",
      "siege_tank : 5시 방향으로 적군을 공격 합니다. [공격력30]\n"
     ]
    }
   ],
   "source": [
    "def attack(name, location, damage) :\n",
    "    print(\"{0} : {1} 방향으로 적군을 공격 합니다. [공격력{2}]\".format(name,location,damage))\n",
    "    \n",
    "attack(name,\"5시\",damage)\n",
    "attack(tank_name,\"5시\",tank_damage)"
   ]
  },
  {
   "cell_type": "markdown",
   "metadata": {},
   "source": [
    "- 이런 방식으로 정의한다면 유닛이 하나 추가되었을 때, 계속해서 변수를 만드는 것이 필요한데 굉장히 비효율적"
   ]
  },
  {
   "cell_type": "markdown",
   "metadata": {},
   "source": [
    "#### 위의 방식을 Class로 바꾼다면?"
   ]
  },
  {
   "cell_type": "code",
   "execution_count": 7,
   "metadata": {},
   "outputs": [
    {
     "name": "stdout",
     "output_type": "stream",
     "text": [
      "marine 유닛이 생성되었습니다.\n",
      "체력 40, 공격력 6\n",
      "marine 유닛이 생성되었습니다.\n",
      "체력 40, 공격력 6\n",
      "Seize_Tank 유닛이 생성되었습니다.\n",
      "체력 150, 공격력 30\n",
      "Seize_Tank 유닛이 생성되었습니다.\n",
      "체력 150, 공격력 30\n"
     ]
    }
   ],
   "source": [
    "class Unit :\n",
    "    def __init__(self, name, hp, damage) :\n",
    "        self.name = name\n",
    "        self.hp = hp\n",
    "        self.damage = damage\n",
    "        print(\"{0} 유닛이 생성되었습니다.\".format(self.name))\n",
    "        print(\"체력 {0}, 공격력 {1}\".format(self.hp, self.damage))\n",
    "\n",
    "marine1 = Unit(\"marine\",40,6)\n",
    "marine2 = Unit(\"marine\",40,6)\n",
    "seize_tank1 = Unit(\"Seize_Tank\",150,30)\n",
    "seize_tank2 = Unit(\"Seize_Tank\",150,30)"
   ]
  },
  {
   "cell_type": "code",
   "execution_count": 9,
   "metadata": {},
   "outputs": [
    {
     "name": "stdout",
     "output_type": "stream",
     "text": [
      "유닛 이름: marine, 공격력: 6\n"
     ]
    }
   ],
   "source": [
    "print(\"유닛 이름: {0}, 공격력: {1}\".format(marine1.name, marine1.damage))"
   ]
  },
  {
   "cell_type": "markdown",
   "metadata": {},
   "source": [
    "#### Method"
   ]
  },
  {
   "cell_type": "code",
   "execution_count": 4,
   "metadata": {},
   "outputs": [],
   "source": [
    "class AttackUnit:\n",
    "    \n",
    "    count = 0\n",
    "        \n",
    "    def __init__(self, name, hp, damage) :\n",
    "        self.name = name\n",
    "        self.hp = hp\n",
    "        self.damage = damage\n",
    "        AttackUnit.count += 1\n",
    "    \n",
    "    @classmethod\n",
    "    def unit_count(cls) :\n",
    "        print(\"유닛이 {}개 생성되었습니다\".format(cls.count))\n",
    "    \n",
    "    def attack(self, location) :\n",
    "        print(\"{0} : {1} 방향으로 적군을 공격 합니다. [공격력 {2}]\".format(self.name, location, self.damage))\n",
    "    \n",
    "    def damaged(self, damage) :\n",
    "        print(\"{0} : {1} 데미지를 입었습니다.\".format(self.name, damage))\n",
    "        self.hp -= damage\n",
    "        print(\"{0} : 현재 체력은 {1} 입니다.\".format(self.name, self.hp))\n",
    "        if self.hp <= 0 :\n",
    "            print(\"{0} : 유닛이 파괴되었습니다.\".format(self.name))"
   ]
  },
  {
   "cell_type": "code",
   "execution_count": 6,
   "metadata": {},
   "outputs": [
    {
     "name": "stdout",
     "output_type": "stream",
     "text": [
      "유닛이 2개 생성되었습니다\n",
      "firebat : 5시 방향으로 적군을 공격 합니다. [공격력 16]\n",
      "firebat : 25 데미지를 입었습니다.\n",
      "firebat : 현재 체력은 25 입니다.\n"
     ]
    }
   ],
   "source": [
    "firebat1 = AttackUnit(\"firebat\",50,16)\n",
    "AttackUnit.unit_count()\n",
    "firebat1.attack(\"5시\")\n",
    "firebat1.damaged(25)"
   ]
  },
  {
   "cell_type": "markdown",
   "metadata": {},
   "source": [
    "#### 상속, 다중상속\n",
    "- Unit, AttackUnit 에서 self.name, self.hp는 동등\n",
    "- Unit 클래스를 상속받아 AttackUnit이란 클래스를 만드는 것으로 코드 변경"
   ]
  },
  {
   "cell_type": "code",
   "execution_count": 7,
   "metadata": {},
   "outputs": [],
   "source": [
    "class Unit :\n",
    "    def __init__(self, name, hp) :\n",
    "        self.name = name\n",
    "        self.hp = hp"
   ]
  },
  {
   "cell_type": "code",
   "execution_count": 8,
   "metadata": {},
   "outputs": [],
   "source": [
    "class AttackUnit(Unit) :\n",
    "        \n",
    "    def __init__(self, name, hp, damage) :\n",
    "        Unit.__init__(self,name,hp)\n",
    "        self.damage = damage"
   ]
  },
  {
   "cell_type": "code",
   "execution_count": null,
   "metadata": {},
   "outputs": [],
   "source": []
  },
  {
   "cell_type": "code",
   "execution_count": null,
   "metadata": {},
   "outputs": [],
   "source": []
  },
  {
   "cell_type": "code",
   "execution_count": null,
   "metadata": {},
   "outputs": [],
   "source": []
  },
  {
   "cell_type": "code",
   "execution_count": null,
   "metadata": {},
   "outputs": [],
   "source": []
  },
  {
   "cell_type": "code",
   "execution_count": null,
   "metadata": {},
   "outputs": [],
   "source": []
  }
 ],
 "metadata": {
  "kernelspec": {
   "display_name": "Python 3",
   "language": "python",
   "name": "python3"
  },
  "language_info": {
   "codemirror_mode": {
    "name": "ipython",
    "version": 3
   },
   "file_extension": ".py",
   "mimetype": "text/x-python",
   "name": "python",
   "nbconvert_exporter": "python",
   "pygments_lexer": "ipython3",
   "version": "3.7.3"
  }
 },
 "nbformat": 4,
 "nbformat_minor": 2
}
