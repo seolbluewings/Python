{
 "cells": [
  {
   "cell_type": "code",
   "execution_count": 75,
   "metadata": {},
   "outputs": [],
   "source": [
    "import numpy as np\n",
    "import pandas as pd\n",
    "import random\n",
    "import math\n",
    "import seaborn as sns\n",
    "import matplotlib.mlab as mlab\n",
    "import matplotlib.pyplot as plt\n",
    "from scipy import stats\n",
    "from scipy.stats import norm"
   ]
  },
  {
   "cell_type": "markdown",
   "metadata": {},
   "source": [
    "#### 1. define target posterior distribution"
   ]
  },
  {
   "cell_type": "code",
   "execution_count": 14,
   "metadata": {},
   "outputs": [],
   "source": [
    "def target_func(x):\n",
    "    return 1/np.sqrt(8*(x)**2+1)*np.exp(-0.5*((x)**2-8*x-16/(8*(x)**2+1)))"
   ]
  },
  {
   "cell_type": "markdown",
   "metadata": {},
   "source": [
    "#### 2.define transition kernel"
   ]
  },
  {
   "cell_type": "code",
   "execution_count": 62,
   "metadata": {},
   "outputs": [],
   "source": [
    "def trans_ker(x,y,z):\n",
    "    return z*norm.pdf(x,y-1.5,1) + (1-z)*norm.pdf(x,y+1.5,1)"
   ]
  },
  {
   "cell_type": "code",
   "execution_count": 63,
   "metadata": {},
   "outputs": [],
   "source": [
    "N = 10000\n",
    "x = np.ones(N)\n",
    "accept = []"
   ]
  },
  {
   "cell_type": "markdown",
   "metadata": {},
   "source": [
    "#### 3. Metropolis-Hastings Algorithm "
   ]
  },
  {
   "cell_type": "code",
   "execution_count": 73,
   "metadata": {
    "scrolled": true
   },
   "outputs": [],
   "source": [
    "for i in range(N-1):\n",
    "    z1 = np.random.binomial(1,0.6,1)\n",
    "    z2 = np.random.binomial(1,0.6,1)\n",
    "    x_dash = z1*norm.rvs(x[i]-1.5,1)+(1-z1)*norm.rvs(x[i]+1.5,1)\n",
    "    x_dash = float(x_dash)\n",
    "    alpha = (target_func(x_dash)/trans_ker(x_dash,x[i],z1))/(target_func(x[i])/trans_ker(x[i],x_dash,z2))\n",
    "    p = min(alpha,1)\n",
    "    p_list = [float(1-p),float(p)]\n",
    "    \n",
    "    x[i+1] = np.random.choice([x[i],x_dash], p=p_list, size=1)  "
   ]
  },
  {
   "cell_type": "markdown",
   "metadata": {},
   "source": [
    "#### 4. Draw a Posterior density plot"
   ]
  },
  {
   "cell_type": "code",
   "execution_count": 79,
   "metadata": {},
   "outputs": [
    {
     "data": {
      "image/png": "[encoded data removed]",
      "text/plain": [
       "<Figure size 432x288 with 1 Axes>"
      ]
     },
     "metadata": {
      "needs_background": "light"
     },
     "output_type": "display_data"
    }
   ],
   "source": [
    "sns.distplot(x, color=\"red\")\n",
    "plt.xlabel(r\"$\\theta$\")\n",
    "plt.title(\"Posterior distribution\")\n",
    "plt.show()"
   ]
  }
 ],
 "metadata": {
  "kernelspec": {
   "display_name": "Python 3",
   "language": "python",
   "name": "python3"
  },
  "language_info": {
   "codemirror_mode": {
    "name": "ipython",
    "version": 3
   },
   "file_extension": ".py",
   "mimetype": "text/x-python",
   "name": "python",
   "nbconvert_exporter": "python",
   "pygments_lexer": "ipython3",
   "version": "3.7.3"
  }
 },
 "nbformat": 4,
 "nbformat_minor": 2
}
