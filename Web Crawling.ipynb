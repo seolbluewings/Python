{
 "cells": [
  {
   "cell_type": "markdown",
   "id": "78ac5c43",
   "metadata": {},
   "source": [
    "- 웹 크롤링이란 웹 페이지의 정보를 가져오는 행위\n",
    "- 크롤링을 위해서 주요 3가지 라이브러리를 활용함 : request, beautifulsoup, selenium\n",
    "- selenium의 webdriver 함수는 인터넷을 통해 사이트 접속, 버튼 클릭, 글자 입력과 같은 사람이 수행할 일을 코드를 통해 제어\n",
    "- webdriver를 쓰기 위해서는 사용중인 웹 브라우저를 제어할 드라이버가 필요(구글을 쓸 때는 크롬드라이버가 필요)\n",
    "- beautifulsoup은 웹 페이지 상의 HTML 데이터에 대한 필요 정보를 parsing 하는데 사용됨  "
   ]
  },
  {
   "cell_type": "code",
   "execution_count": 131,
   "id": "14ea08a8",
   "metadata": {},
   "outputs": [],
   "source": [
    "import pandas as pd\n",
    "import numpy as np"
   ]
  },
  {
   "cell_type": "code",
   "execution_count": 1,
   "id": "d7b0cd7c",
   "metadata": {},
   "outputs": [
    {
     "name": "stderr",
     "output_type": "stream",
     "text": [
      "C:\\Users\\SEOLBL~1\\AppData\\Local\\Temp/ipykernel_10564/2753561217.py:2: DeprecationWarning: executable_path has been deprecated, please pass in a Service object\n",
      "  driver = webdriver.Chrome(r\"C:\\Users\\seolbluewings\\Desktop\\sample\\chromedriver.exe\")\n"
     ]
    }
   ],
   "source": [
    "from selenium import webdriver\n",
    "driver = webdriver.Chrome(r\"C:\\Users\\seolbluewings\\Desktop\\sample\\chromedriver.exe\")"
   ]
  },
  {
   "cell_type": "code",
   "execution_count": 2,
   "id": "8592ebb6",
   "metadata": {},
   "outputs": [],
   "source": [
    "from bs4 import BeautifulSoup\n",
    "import re"
   ]
  },
  {
   "cell_type": "code",
   "execution_count": 3,
   "id": "cab5feb9",
   "metadata": {},
   "outputs": [],
   "source": [
    "driver.get('http://www.shinsegae-lnb.com/product/wineView?id=2058')"
   ]
  },
  {
   "cell_type": "code",
   "execution_count": 4,
   "id": "29de5585",
   "metadata": {},
   "outputs": [],
   "source": [
    "html = driver.page_source"
   ]
  },
  {
   "cell_type": "code",
   "execution_count": 5,
   "id": "b5644564",
   "metadata": {},
   "outputs": [],
   "source": [
    "soup = BeautifulSoup(html, 'html.parser')"
   ]
  },
  {
   "cell_type": "code",
   "execution_count": 161,
   "id": "3728ae75",
   "metadata": {
    "scrolled": true
   },
   "outputs": [
    {
     "name": "stdout",
     "output_type": "stream",
     "text": [
      "와인 한글명 : 카바이 코퍼스 레드\n",
      "와인 영문명 : Kabaj Corpus Red\n",
      "와인 개요 : 슬로베니아 오렌지 와인 거장의 내추럴 와인\n"
     ]
    }
   ],
   "source": [
    "print(\"와인 한글명 : {}\".format(soup.select('div.box1 > dl > dt')[0].text.strip()))\n",
    "print(\"와인 영문명 : {}\".format(soup.select('div.box1 > dl > dd')[0].text.strip()))\n",
    "print(\"와인 개요 : {}\".format(soup.select('div.box1 > dl > dd')[1].text.strip()))"
   ]
  },
  {
   "cell_type": "code",
   "execution_count": 167,
   "id": "59f44ce0",
   "metadata": {},
   "outputs": [
    {
     "name": "stdout",
     "output_type": "stream",
     "text": [
      "Type : 레드 와인\n",
      "포도 품종 : 메를로, 까베르네 프랑, 까베르네 소비뇽\n",
      "용량 : 750ml\n",
      "매칭 음식 : 그릴에 구운 붉은 육류요리나 풍미가 진한 육류\n"
     ]
    }
   ],
   "source": [
    "print(\"Type : {}\".format(soup.select('div.box2 > ul > li.type1 > span')[1].text.strip()))\n",
    "print(\"포도 품종 : {}\".format(soup.select('div.box2 > ul > li.type3 > span')[1].text.strip()))\n",
    "print(\"용량 : {}\".format(soup.select('div.box2 > ul > li.type4 > span')[1].text.strip()))\n",
    "print(\"매칭 음식 : {}\".format(soup.select('div.box2 > ul > li.type5 > span')[1].text.strip()))"
   ]
  },
  {
   "cell_type": "code",
   "execution_count": 11,
   "id": "45ae27bf",
   "metadata": {
    "scrolled": true
   },
   "outputs": [
    {
     "name": "stdout",
     "output_type": "stream",
     "text": [
      "당도 : 1\n",
      "산도 : 3\n",
      "바디 : 4\n"
     ]
    }
   ],
   "source": [
    "print(\"{0} : {1}\".format(soup.select('div.box3 > dl > dt')[0].text.strip(),soup.select('div.box3 > dl > dd > span.on')[0].text.strip()))\n",
    "print(\"{0} : {1}\".format(soup.select('div.box3 > dl > dt')[1].text.strip(),soup.select('div.box3 > dl > dd > span.on')[1].text.strip()))\n",
    "print(\"{0} : {1}\".format(soup.select('div.box3 > dl > dt')[2].text.strip(),soup.select('div.box3 > dl > dd > span.on')[2].text.strip()))"
   ]
  },
  {
   "cell_type": "markdown",
   "id": "23833061",
   "metadata": {},
   "source": [
    "- winary 정보"
   ]
  },
  {
   "cell_type": "code",
   "execution_count": 113,
   "id": "ff4ae78f",
   "metadata": {},
   "outputs": [
    {
     "name": "stdout",
     "output_type": "stream",
     "text": [
      "winary 정보1 : 카바이  Kabaj\n",
      "winary 정보2 : 오렌지 와인의 거장\n",
      "winary 정보3 : 8천년 역사의 고대 조지아 와인 양조법을 그대로 재현\n",
      "winary 정보4 : 세계적인 주류전문지 Wine & Spirits 선정 '올해의 와이너리'\n"
     ]
    }
   ],
   "source": [
    "print(\"winary 정보1 : {}\".format(soup.select(\"div.cont > div.box2 >dl > dt\")[0].text.strip()))\n",
    "print(\"winary 정보2 : {}\".format(soup.select(\"div.cont > div.box2 >dl > dd > ul >li \")[0].text.strip()))\n",
    "print(\"winary 정보3 : {}\".format(soup.select(\"div.cont > div.box2 >dl > dd > ul >li \")[1].text.strip()))\n",
    "print(\"winary 정보4 : {}\".format(soup.select(\"div.cont > div.box2 >dl > dd > ul >li \")[2].text.strip()))"
   ]
  },
  {
   "cell_type": "markdown",
   "id": "912b4b3d",
   "metadata": {},
   "source": [
    "- 유사 와인 리스트"
   ]
  },
  {
   "cell_type": "code",
   "execution_count": 156,
   "id": "4e66a9a0",
   "metadata": {},
   "outputs": [
    {
     "data": {
      "text/html": [
       "<div>\n",
       "<style scoped>\n",
       "    .dataframe tbody tr th:only-of-type {\n",
       "        vertical-align: middle;\n",
       "    }\n",
       "\n",
       "    .dataframe tbody tr th {\n",
       "        vertical-align: top;\n",
       "    }\n",
       "\n",
       "    .dataframe thead th {\n",
       "        text-align: right;\n",
       "    }\n",
       "</style>\n",
       "<table border=\"1\" class=\"dataframe\">\n",
       "  <thead>\n",
       "    <tr style=\"text-align: right;\">\n",
       "      <th></th>\n",
       "      <th>eng_nm</th>\n",
       "      <th>kor_nm</th>\n",
       "    </tr>\n",
       "  </thead>\n",
       "  <tbody>\n",
       "    <tr>\n",
       "      <th>0</th>\n",
       "      <td>Kabaj Sauvignon</td>\n",
       "      <td>카바이 소비뇽</td>\n",
       "    </tr>\n",
       "    <tr>\n",
       "      <th>1</th>\n",
       "      <td>Kabaj Beli Pinot</td>\n",
       "      <td>카바이 벨리 피노</td>\n",
       "    </tr>\n",
       "    <tr>\n",
       "      <th>2</th>\n",
       "      <td>Kabaj Sivi Pinot</td>\n",
       "      <td>카바이 시비 피노</td>\n",
       "    </tr>\n",
       "    <tr>\n",
       "      <th>3</th>\n",
       "      <td>Kabaj Amfora</td>\n",
       "      <td>카바이 암포라</td>\n",
       "    </tr>\n",
       "    <tr>\n",
       "      <th>4</th>\n",
       "      <td>Kabaj Hydra White Pet Nat</td>\n",
       "      <td>카바이 히드라 화이트 펫낫</td>\n",
       "    </tr>\n",
       "  </tbody>\n",
       "</table>\n",
       "</div>"
      ],
      "text/plain": [
       "                      eng_nm          kor_nm\n",
       "0            Kabaj Sauvignon         카바이 소비뇽\n",
       "1           Kabaj Beli Pinot       카바이 벨리 피노\n",
       "2           Kabaj Sivi Pinot       카바이 시비 피노\n",
       "3               Kabaj Amfora         카바이 암포라\n",
       "4  Kabaj Hydra White Pet Nat  카바이 히드라 화이트 펫낫"
      ]
     },
     "execution_count": 156,
     "metadata": {},
     "output_type": "execute_result"
    }
   ],
   "source": [
    "k = len(soup.select(\"div.cont > div.bx-wrapper > div.bx-viewport > ul.recommend_slider > li > dl > dt\"))\n",
    "w_rcm_df = pd.DataFrame(index=range(0,k), columns = {'eng_nm','kor_nm'})\n",
    "\n",
    "for i in range(k) :\n",
    "    w_rcm_df.iloc[i,0] = soup.select(\"div.cont > div.bx-wrapper > div.bx-viewport > ul.recommend_slider > li > dl > dd\")[i].text.strip()\n",
    "    w_rcm_df.iloc[i,1] = soup.select(\"div.cont > div.bx-wrapper > div.bx-viewport > ul.recommend_slider > li > dl > dt\")[i].text.strip()\n",
    "\n",
    "w_rcm_df.head(5)"
   ]
  }
 ],
 "metadata": {
  "kernelspec": {
   "display_name": "Python 3 (ipykernel)",
   "language": "python",
   "name": "python3"
  },
  "language_info": {
   "codemirror_mode": {
    "name": "ipython",
    "version": 3
   },
   "file_extension": ".py",
   "mimetype": "text/x-python",
   "name": "python",
   "nbconvert_exporter": "python",
   "pygments_lexer": "ipython3",
   "version": "3.9.7"
  }
 },
 "nbformat": 4,
 "nbformat_minor": 5
}
