{
 "cells": [
  {
   "cell_type": "markdown",
   "id": "78ac5c43",
   "metadata": {},
   "source": [
    "- 웹 크롤링이란 웹 페이지의 정보를 가져오는 행위\n",
    "- 크롤링을 위해서 주요 3가지 라이브러리를 활용함 : request, beautifulsoup, selenium\n",
    "- selenium의 webdriver 함수는 인터넷을 통해 사이트 접속, 버튼 클릭, 글자 입력과 같은 사람이 수행할 일을 코드를 통해 제어\n",
    "- webdriver를 쓰기 위해서는 사용중인 웹 브라우저를 제어할 드라이버가 필요(구글을 쓸 때는 크롬드라이버가 필요)\n",
    "- beautifulsoup은 웹 페이지 상의 HTML 데이터에 대한 필요 정보를 parsing 하는데 사용됨  "
   ]
  },
  {
   "cell_type": "code",
   "execution_count": 1,
   "id": "d7b0cd7c",
   "metadata": {},
   "outputs": [
    {
     "name": "stderr",
     "output_type": "stream",
     "text": [
      "C:\\Users\\SEOLBL~1\\AppData\\Local\\Temp/ipykernel_10844/2753561217.py:2: DeprecationWarning: executable_path has been deprecated, please pass in a Service object\n",
      "  driver = webdriver.Chrome(r\"C:\\Users\\seolbluewings\\Desktop\\sample\\chromedriver.exe\")\n"
     ]
    }
   ],
   "source": [
    "from selenium import webdriver\n",
    "driver = webdriver.Chrome(r\"C:\\Users\\seolbluewings\\Desktop\\sample\\chromedriver.exe\")"
   ]
  },
  {
   "cell_type": "code",
   "execution_count": 39,
   "id": "8592ebb6",
   "metadata": {},
   "outputs": [],
   "source": [
    "from bs4 import BeautifulSoup\n",
    "import re"
   ]
  },
  {
   "cell_type": "code",
   "execution_count": 3,
   "id": "cab5feb9",
   "metadata": {},
   "outputs": [],
   "source": [
    "driver.get('http://www.shinsegae-lnb.com/product/wineView?id=2058')"
   ]
  },
  {
   "cell_type": "code",
   "execution_count": 4,
   "id": "29de5585",
   "metadata": {},
   "outputs": [],
   "source": [
    "html = driver.page_source"
   ]
  },
  {
   "cell_type": "code",
   "execution_count": 5,
   "id": "b5644564",
   "metadata": {},
   "outputs": [],
   "source": [
    "soup = BeautifulSoup(html, 'html.parser')"
   ]
  },
  {
   "cell_type": "code",
   "execution_count": 72,
   "id": "1e551b35",
   "metadata": {},
   "outputs": [
    {
     "data": {
      "text/plain": [
       "'카바이 코퍼스 레드'"
      ]
     },
     "execution_count": 72,
     "metadata": {},
     "output_type": "execute_result"
    }
   ],
   "source": [
    "w_kor_nm = soup.select('div.box1 > dl > dt')\n",
    "w_kor_nm[0].text.strip()"
   ]
  },
  {
   "cell_type": "code",
   "execution_count": 30,
   "id": "6b3abb1a",
   "metadata": {},
   "outputs": [
    {
     "data": {
      "text/plain": [
       "'레드 와인'"
      ]
     },
     "execution_count": 30,
     "metadata": {},
     "output_type": "execute_result"
    }
   ],
   "source": [
    "w_type = soup.select('div.box2 > ul > li.type1 > span')\n",
    "w_type[1].text.strip()"
   ]
  },
  {
   "cell_type": "code",
   "execution_count": 46,
   "id": "abac6a3f",
   "metadata": {},
   "outputs": [
    {
     "data": {
      "text/plain": [
       "'메를로, 까베르네 프랑, 까베르네 소비뇽'"
      ]
     },
     "execution_count": 46,
     "metadata": {},
     "output_type": "execute_result"
    }
   ],
   "source": [
    "w_grape = soup.select('div.box2 > ul > li.type3 > span')\n",
    "w_grape[1].text.strip()"
   ]
  },
  {
   "cell_type": "code",
   "execution_count": 73,
   "id": "d4c6f60c",
   "metadata": {},
   "outputs": [
    {
     "data": {
      "text/plain": [
       "'750ml'"
      ]
     },
     "execution_count": 73,
     "metadata": {},
     "output_type": "execute_result"
    }
   ],
   "source": [
    "w_capacity = soup.select('div.box2 > ul > li.type4 > span')\n",
    "w_capacity[1].text.strip()"
   ]
  },
  {
   "cell_type": "code",
   "execution_count": 53,
   "id": "e014a204",
   "metadata": {},
   "outputs": [
    {
     "data": {
      "text/plain": [
       "'그릴에 구운 붉은 육류요리나 풍미가 진한 육류'"
      ]
     },
     "execution_count": 53,
     "metadata": {},
     "output_type": "execute_result"
    }
   ],
   "source": [
    "w_fd_matching = soup.select('div.box2 > ul > li.type5 > span')\n",
    "w_fd_matching[1].text.strip()"
   ]
  },
  {
   "cell_type": "code",
   "execution_count": 106,
   "id": "45ae27bf",
   "metadata": {},
   "outputs": [
    {
     "name": "stdout",
     "output_type": "stream",
     "text": [
      "당도 : 1\n",
      "산도 : 3\n",
      "바디 : 4\n"
     ]
    }
   ],
   "source": [
    "print(\"{0} : {1}\".format(soup.select('div.box3 > dl > dt')[0].text.strip(),soup.select('div.box3 > dl > dd > span.on')[0].text.strip()))\n",
    "print(\"{0} : {1}\".format(soup.select('div.box3 > dl > dt')[1].text.strip(),soup.select('div.box3 > dl > dd > span.on')[1].text.strip()))\n",
    "print(\"{0} : {1}\".format(soup.select('div.box3 > dl > dt')[2].text.strip(),soup.select('div.box3 > dl > dd > span.on')[2].text.strip()))"
   ]
  }
 ],
 "metadata": {
  "kernelspec": {
   "display_name": "Python 3 (ipykernel)",
   "language": "python",
   "name": "python3"
  },
  "language_info": {
   "codemirror_mode": {
    "name": "ipython",
    "version": 3
   },
   "file_extension": ".py",
   "mimetype": "text/x-python",
   "name": "python",
   "nbconvert_exporter": "python",
   "pygments_lexer": "ipython3",
   "version": "3.9.7"
  }
 },
 "nbformat": 4,
 "nbformat_minor": 5
}
