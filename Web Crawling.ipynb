{
 "cells": [
  {
   "cell_type": "markdown",
   "id": "78ac5c43",
   "metadata": {},
   "source": [
    "- 웹 크롤링이란 웹 페이지의 정보를 가져오는 행위\n",
    "- 크롤링을 위해서 주요 3가지 라이브러리를 활용함 : request, beautifulsoup, selenium\n",
    "- selenium의 webdriver 함수는 인터넷을 통해 사이트 접속, 버튼 클릭, 글자 입력과 같은 사람이 수행할 일을 코드를 통해 제어\n",
    "- webdriver를 쓰기 위해서는 사용중인 웹 브라우저를 제어할 드라이버가 필요(구글을 쓸 때는 크롬드라이버가 필요)\n",
    "- beautifulsoup은 웹 페이지 상의 HTML 데이터에 대한 필요 정보를 parsing 하는데 사용됨  "
   ]
  },
  {
   "cell_type": "code",
   "execution_count": 153,
   "id": "14ea08a8",
   "metadata": {},
   "outputs": [],
   "source": [
    "import pandas as pd\n",
    "import numpy as np\n",
    "import time"
   ]
  },
  {
   "cell_type": "code",
   "execution_count": 2,
   "id": "d7b0cd7c",
   "metadata": {},
   "outputs": [
    {
     "name": "stderr",
     "output_type": "stream",
     "text": [
      "C:\\Users\\SEOLBL~1\\AppData\\Local\\Temp/ipykernel_7620/2753561217.py:2: DeprecationWarning: executable_path has been deprecated, please pass in a Service object\n",
      "  driver = webdriver.Chrome(r\"C:\\Users\\seolbluewings\\Desktop\\sample\\chromedriver.exe\")\n"
     ]
    }
   ],
   "source": [
    "from selenium import webdriver\n",
    "driver = webdriver.Chrome(r\"C:\\Users\\seolbluewings\\Desktop\\sample\\chromedriver.exe\")"
   ]
  },
  {
   "cell_type": "code",
   "execution_count": 3,
   "id": "8592ebb6",
   "metadata": {},
   "outputs": [],
   "source": [
    "from bs4 import BeautifulSoup\n",
    "import re"
   ]
  },
  {
   "cell_type": "code",
   "execution_count": 6,
   "id": "2aa6d88a",
   "metadata": {},
   "outputs": [],
   "source": [
    "def get_search_page_url(page) :\n",
    "    return \"http://www.shinsegae-lnb.com/product/wine?currentPage={}&orderBy=2&listSize=12&selectedWineType=0&selectedWineNation=0&selectedSugar=0&searchText=#orderBy\".format(page)"
   ]
  },
  {
   "cell_type": "code",
   "execution_count": 10,
   "id": "8046555f",
   "metadata": {},
   "outputs": [],
   "source": [
    "page_url = get_search_page_url(1)"
   ]
  },
  {
   "cell_type": "code",
   "execution_count": 162,
   "id": "dc565ebd",
   "metadata": {},
   "outputs": [
    {
     "name": "stdout",
     "output_type": "stream",
     "text": [
      "/product/wineView?id=2070\n",
      "와인 한글명 : 마르셀 다이스 그랑크뤼 쇠넨부르그\n",
      "와인 영문명 : Marcel Deiss Schoenenbourg, Grand Cru d'Alsace\n",
      "와인 개요 : 우아하고 균형감 있는 알자스 그랑 크뤼 와인\n",
      "Type : 화이트 와인\n",
      "포도 품종 : 알자스 화이트 품종 13종\n",
      "용량 : 750ml\n",
      "매칭 음식 : 조개, 랍스터 등 풍부한 맛의 해산물, 닭고기, 캐비어\n",
      "당도 : 3\n",
      "산도 : 3\n",
      "바디 : 4\n",
      "winary 정보1 : 마르셀 다이스  Marcel Deiss\n",
      "winary 정보2 : 알자스 베르그하임에 위치한 와이너리\n",
      "winary 정보3 : 같은 토양에 포도 품종을 섞어 재배하는 컴플렌테이션 농법 사용\n",
      "winary 정보4 : 바이오 다이나믹 농법으로 재배한 포도로 와인 양조\n",
      "/product/wineView?id=2069\n",
      "와인 한글명 : 마르셀 다이스 그랑크뤼 알텐베르그\n",
      "와인 영문명 : Marcel Deiss Grand Cru Altenberg de Bergheim\n",
      "와인 개요 : 우아하고 균형감 있는 알자스 그랑 크뤼 와인\n",
      "Type : 화이트 와인\n",
      "포도 품종 : 알자스 화이트 품종 13종\n",
      "용량 : 750ml\n",
      "매칭 음식 : 푸아그라, 샤퀴테리, 치즈\n",
      "당도 : 2\n",
      "산도 : 3\n",
      "바디 : 4\n",
      "winary 정보1 : 마르셀 다이스  Marcel Deiss\n",
      "winary 정보2 : 알자스 베르그하임에 위치한 와이너리\n",
      "winary 정보3 : 같은 토양에 포도 품종을 섞어 재배하는 컴플렌테이션 농법 사용\n",
      "winary 정보4 : 바이오 다이나믹 농법으로 재배한 포도로 와인 양조\n",
      "/product/wineView?id=2068\n",
      "와인 한글명 : 마르셀 다이스 그랑크뤼 맘부르그\n",
      "와인 영문명 : Marcel Deiss Mambourg, Grand Cru d'Alsace\n",
      "와인 개요 : 우아하고 균형감 있는 알자스 그랑 크뤼 와인\n",
      "Type : 화이트 와인\n",
      "포도 품종 : 피노 계열 품종 다수 블렌딩\n",
      "용량 : 750ml\n",
      "매칭 음식 : 크림소스를 가미한 치킨 요리, 다양한 버섯 요리, 잘 숙성된 콩테 치즈\n",
      "당도 : 2\n",
      "산도 : 3\n",
      "바디 : 4\n",
      "winary 정보1 : 마르셀 다이스  Marcel Deiss\n",
      "winary 정보2 : 알자스 베르그하임에 위치한 와이너리\n",
      "winary 정보3 : 같은 토양에 포도 품종을 섞어 재배하는 컴플렌테이션 농법 사용\n",
      "winary 정보4 : 바이오 다이나믹 농법으로 재배한 포도로 와인 양조\n",
      "/product/wineView?id=2067\n",
      "와인 한글명 : 수리올 상 드 드락 울 드 예브레\n",
      "와인 영문명 : Suriol Sang de Drac Ull de Llebre\n",
      "와인 개요 : 스페인 페데네스 지방의 내추럴 와인\n",
      "Type : 레드 와인\n",
      "포도 품종 : 템프라니요 100%\n",
      "용량 : 750ml\n",
      "매칭 음식 : 그릴에 구운 육류요리, 숙성 치즈, 샤퀴테리\n",
      "당도 : 1\n",
      "산도 : 3\n",
      "바디 : 4\n",
      "winary 정보1 : 칸 수리올 델 카스텔  Can Suriol del Castell\n",
      "winary 정보2 : 페네데스의 유서깊은 와인 가문에서 운영\n",
      "winary 정보3 : 페네데스 지방의 '친환경 와인' 분야 선구자\n",
      "winary 정보4 : 까바, 스틸 와인 등 다양한 친환경, 내추럴 와인 생산\n",
      "/product/wineView?id=2066\n",
      "와인 한글명 : 매드스컬\n",
      "와인 영문명 : Mad Skull\n",
      "와인 개요 : 스모키한 매력의 미국 캘리포니아 와인\n",
      "Type : 레드 와인\n",
      "포도 품종 : 까베르네 소비뇽\n",
      "용량 : 750ml\n",
      "매칭 음식 : 스테이크, 바비큐, 소시지 등 각종 육류요리\n",
      "당도 : 1\n",
      "산도 : 3\n",
      "바디 : 3\n",
      "winary 정보1 : 신세계엘앤비 픽  Shinsegae L&B PICK\n",
      "winary 정보2 : 세계 각지의 와인산지에서 신세계엘앤비가 엄선한 상품\n",
      "winary 정보3 : 다양한 채널로 유통되는 신세계엘앤비 단독상품\n",
      "winary 정보4 : 뛰어난 가성비를 자랑하는 상품\n",
      "/product/wineView?id=2065\n",
      "와인 한글명 : 스트레브 모스카토 다스티\n",
      "와인 영문명 : Strev Moscato d’Asti DOCG\n",
      "와인 개요 : 고급스럽고 자연스러운 단맛의 모스카토 와인\n",
      "Type : 화이트 와인\n",
      "포도 품종 : 모스카토 100%\n",
      "용량 : 750ml\n",
      "매칭 음식 : 간단한 핑거푸드나 애피타이저, 부드러운 치즈, 케이크나 쿠키 등의 디저트, 매콤한 해산물 요리\n",
      "당도 : 3\n",
      "산도 : 3\n",
      "바디 : 3\n",
      "winary 정보1 : 신세계엘앤비 픽  Shinsegae L&B PICK\n",
      "winary 정보2 : 세계 각지의 와인산지에서 신세계엘앤비가 엄선한 상품\n",
      "winary 정보3 : 다양한 채널로 유통되는 신세계엘앤비 단독상품\n",
      "winary 정보4 : 뛰어난 가성비를 자랑하는 상품\n",
      "/product/wineView?id=2064\n",
      "와인 한글명 : 코노수르 싱글 빈야드 피노누아\n",
      "와인 영문명 : Cono Sur Single Vineyard Pinot Noir\n",
      "와인 개요 : 가장 좋은 구획의 단일 품종만을 이용하여 만든 와인\n",
      "Type : 레드 와인\n",
      "포도 품종 : 피노누아 100%\n",
      "용량 : 750ml\n",
      "매칭 음식 : 붉은육류요리, 오리고기, 숙성된 치즈\n",
      "당도 : 1\n",
      "산도 : 3\n",
      "바디 : 4\n",
      "winary 정보1 : 코노수르  Cono Sur\n",
      "winary 정보2 : <Drink International> 2015년 ‘세계에서 가장 존경 받는 와인 브랜드’ 10위\n",
      "winary 정보3 : 세계 최초의 탄소배출 0%(Carbon Neutral) 인증 와이너리\n",
      "winary 정보4 : 도전정신, 혁신의 아이콘\n",
      "/product/wineView?id=2063\n",
      "와인 한글명 : 칸티 프리미엄 브라케토\n",
      "와인 영문명 : Canti Premium Brachetto\n",
      "와인 개요 : 로맨틱한 장밋빛의 달콤한 와인\n",
      "Type : 레드 와인\n",
      "포도 품종 : 브라케토 100%\n",
      "용량 : 750ml\n",
      "매칭 음식 : 신선한 딸기나 과일 케이크, 과일 샐러드, 페스츄리 등의 디저트\n",
      "당도 : 4\n",
      "산도 : 3\n",
      "바디 : 3\n",
      "winary 정보1 : 칸티  Canti\n",
      "winary 정보2 : 이태리어로 '노래하다'는 뜻\n",
      "winary 정보3 : 즐거운 파티와 오페라를 즐기는 이탈리안 라이프스타일을 표방하는 와인 브랜드\n",
      "winary 정보4 : 와인사업으로 큰 성공을 거둔 마르티니 가문 소유\n",
      "/product/wineView?id=2062\n",
      "와인 한글명 : 도멘 쁘띠장 부르고뉴 피노누아\n",
      "와인 영문명 : Domaine Petitjean, Les Boisseaux Bourgogne Pinot Noir\n",
      "와인 개요 : 가성비 좋은 부르고뉴 와인\n",
      "Type : 레드 와인\n",
      "포도 품종 : 피노누아 100%\n",
      "용량 : 750ml\n",
      "매칭 음식 : 참치 스테이크, 연어, 소금후추간으로 구워낸 담백한 육류요리\n",
      "당도 : 1\n",
      "산도 : 3\n",
      "바디 : 3\n",
      "winary 정보1 : 신세계엘앤비 픽  Shinsegae L&B PICK\n",
      "winary 정보2 : 세계 각지의 와인산지에서 신세계엘앤비가 엄선한 상품\n",
      "winary 정보3 : 다양한 채널로 유통되는 신세계엘앤비 단독상품\n",
      "winary 정보4 : 뛰어난 가성비를 자랑하는 상품\n",
      "/product/wineView?id=2061\n",
      "와인 한글명 : 도멘 쁘띠장 부르고뉴 샤르도네\n",
      "와인 영문명 : Domaine Petitjean, Terre Blanche Bourgogne Chardonnay\n",
      "와인 개요 : 가성비 좋은 부르고뉴 와인\n",
      "Type : 화이트 와인\n",
      "포도 품종 : 샤르도네 100%\n",
      "용량 : 750ml\n",
      "매칭 음식 : 견과류를 가미한 샐러드, 삼겹살구이, 로스트 치킨, 담백한 맛의 파스타\n",
      "당도 : 1\n",
      "산도 : 3\n",
      "바디 : 3\n",
      "winary 정보1 : 신세계엘앤비 픽  Shinsegae L&B PICK\n",
      "winary 정보2 : 세계 각지의 와인산지에서 신세계엘앤비가 엄선한 상품\n",
      "winary 정보3 : 다양한 채널로 유통되는 신세계엘앤비 단독상품\n",
      "winary 정보4 : 뛰어난 가성비를 자랑하는 상품\n",
      "/product/wineView?id=2060\n",
      "와인 한글명 : 카바이 히드라 화이트 펫낫\n",
      "와인 영문명 : Kabaj Hydra White Pet Nat\n",
      "와인 개요 : 내추럴 양조 방식으로 만든 스파클링 와인\n",
      "Type : 화이트 스파클링 와인\n",
      "포도 품종 : 말바지아, 그린 소비뇽\n",
      "용량 : 750ml\n",
      "매칭 음식 : 신선한 해산물 요리, 생선 카르파쵸, 샐러드, 매콤한 맛의 요리, 튀김류\n",
      "당도 : 1\n",
      "산도 : 3\n",
      "바디 : 3\n",
      "winary 정보1 : 카바이  Kabaj\n",
      "winary 정보2 : 오렌지 와인의 거장\n",
      "winary 정보3 : 8천년 역사의 고대 조지아 와인 양조법을 그대로 재현\n",
      "winary 정보4 : 세계적인 주류전문지 Wine & Spirits 선정 '올해의 와이너리'\n",
      "/product/wineView?id=2059\n",
      "와인 한글명 : 카바이 코버스 레드 펫낫\n",
      "와인 영문명 : Kabaj Corvus Red Pet Nat\n",
      "와인 개요 : 내추럴 양조 방식으로 만든 스파클링 와인\n",
      "Type : 레드 스파클링 와인\n",
      "포도 품종 : 피노누아, 메를로\n",
      "용량 : 750ml\n",
      "매칭 음식 : 신선한 치즈, 살라미를 곁들인 페스츄리, 스파이시한 아시아 요리, 해산물 요리\n",
      "당도 : 1\n",
      "산도 : 3\n",
      "바디 : 3\n",
      "winary 정보1 : 카바이  Kabaj\n",
      "winary 정보2 : 오렌지 와인의 거장\n",
      "winary 정보3 : 8천년 역사의 고대 조지아 와인 양조법을 그대로 재현\n",
      "winary 정보4 : 세계적인 주류전문지 Wine & Spirits 선정 '올해의 와이너리'\n"
     ]
    }
   ],
   "source": [
    "for i in range(0,1) :\n",
    "    page_url = get_search_page_url(i+1)\n",
    "    page_url = str(page_url)\n",
    "    driver.get(page_url)\n",
    "    time.sleep(3)\n",
    "    \n",
    "    html = driver.page_source\n",
    "    soup = BeautifulSoup(html, 'html.parser')\n",
    "    \n",
    "    num_product_list = len(soup.select('div.cont > ul.list > li > div > a'))\n",
    "    \n",
    "    for j in range(0,num_product_list) :\n",
    "        product_info = str(soup.select('div.cont > ul.list > li > div > a')[j])\n",
    "        url_info = re.findall(r'\\/product+.+\\d{4}',product_info)[0]\n",
    "        print(url_info)\n",
    "        \n",
    "        product_url = 'http://www.shinsegae-lnb.com'+str(url_info)\n",
    "        \n",
    "        driver.get(product_url)\n",
    "        \n",
    "        html2 = driver.page_source\n",
    "        soup2 = BeautifulSoup(html2, 'html.parser')\n",
    "        \n",
    "        print(\"와인 한글명 : {}\".format(soup2.select('div.box1 > dl > dt')[0].text.strip()))\n",
    "        print(\"와인 영문명 : {}\".format(soup2.select('div.box1 > dl > dd')[0].text.strip()))\n",
    "        print(\"와인 개요 : {}\".format(soup2.select('div.box1 > dl > dd')[1].text.strip()))\n",
    "        print(\"Type : {}\".format(soup2.select('div.box2 > ul > li.type1 > span')[1].text.strip()))\n",
    "        print(\"포도 품종 : {}\".format(soup2.select('div.box2 > ul > li.type3 > span')[1].text.strip()))\n",
    "        print(\"용량 : {}\".format(soup2.select('div.box2 > ul > li.type4 > span')[1].text.strip()))\n",
    "        print(\"매칭 음식 : {}\".format(soup2.select('div.box2 > ul > li.type5 > span')[1].text.strip()))\n",
    "        print(\"{0} : {1}\".format(soup2.select('div.box3 > dl > dt')[0].text.strip(),soup2.select('div.box3 > dl > dd > span.on')[0].text.strip()))\n",
    "        print(\"{0} : {1}\".format(soup2.select('div.box3 > dl > dt')[1].text.strip(),soup2.select('div.box3 > dl > dd > span.on')[1].text.strip()))\n",
    "        print(\"{0} : {1}\".format(soup2.select('div.box3 > dl > dt')[2].text.strip(),soup2.select('div.box3 > dl > dd > span.on')[2].text.strip()))\n",
    "        print(\"winary 정보1 : {}\".format(soup2.select(\"div.cont > div.box2 >dl > dt\")[0].text.strip()))\n",
    "        print(\"winary 정보2 : {}\".format(soup2.select(\"div.cont > div.box2 >dl > dd > ul >li \")[0].text.strip()))\n",
    "        print(\"winary 정보3 : {}\".format(soup2.select(\"div.cont > div.box2 >dl > dd > ul >li \")[1].text.strip()))\n",
    "        print(\"winary 정보4 : {}\".format(soup2.select(\"div.cont > div.box2 >dl > dd > ul >li \")[2].text.strip()))"
   ]
  },
  {
   "cell_type": "code",
   "execution_count": 158,
   "id": "606b8974",
   "metadata": {},
   "outputs": [
    {
     "data": {
      "text/plain": [
       "12"
      ]
     },
     "execution_count": 158,
     "metadata": {},
     "output_type": "execute_result"
    }
   ],
   "source": [
    "num_product_list"
   ]
  },
  {
   "cell_type": "code",
   "execution_count": 111,
   "id": "93252d05",
   "metadata": {},
   "outputs": [
    {
     "data": {
      "text/plain": [
       "'http://www.shinsegae-lnb.com/product/wine?currentPage=1&orderBy=2&listSize=12&selectedWineType=0&selectedWineNation=0&selectedSugar=0&searchText=#orderBy'"
      ]
     },
     "execution_count": 111,
     "metadata": {},
     "output_type": "execute_result"
    }
   ],
   "source": [
    "str(page_url)"
   ]
  },
  {
   "cell_type": "code",
   "execution_count": 13,
   "id": "24898a5e",
   "metadata": {},
   "outputs": [],
   "source": [
    "driver.get('http://www.shinsegae-lnb.com/product/wine?currentPage=1&orderBy=2&listSize=12&selectedWineType=0&selectedWineNation=0&selectedSugar=0&searchText=#orderBy')"
   ]
  },
  {
   "cell_type": "code",
   "execution_count": 14,
   "id": "e9509217",
   "metadata": {},
   "outputs": [],
   "source": [
    "html = driver.page_source"
   ]
  },
  {
   "cell_type": "code",
   "execution_count": 15,
   "id": "37527940",
   "metadata": {},
   "outputs": [],
   "source": [
    "soup = BeautifulSoup(html, 'html.parser')"
   ]
  },
  {
   "cell_type": "code",
   "execution_count": 64,
   "id": "14e54762",
   "metadata": {},
   "outputs": [],
   "source": [
    "num_product_list = len(soup.select('div.cont > ul.list > li > div > a'))"
   ]
  },
  {
   "cell_type": "code",
   "execution_count": 159,
   "id": "1b576f56",
   "metadata": {},
   "outputs": [
    {
     "ename": "IndexError",
     "evalue": "list index out of range",
     "output_type": "error",
     "traceback": [
      "\u001b[1;31m---------------------------------------------------------------------------\u001b[0m",
      "\u001b[1;31mIndexError\u001b[0m                                Traceback (most recent call last)",
      "\u001b[1;32mC:\\Users\\SEOLBL~1\\AppData\\Local\\Temp/ipykernel_7620/2755603956.py\u001b[0m in \u001b[0;36m<module>\u001b[1;34m\u001b[0m\n\u001b[1;32m----> 1\u001b[1;33m \u001b[0mproduct_info\u001b[0m \u001b[1;33m=\u001b[0m \u001b[0mstr\u001b[0m\u001b[1;33m(\u001b[0m\u001b[0msoup\u001b[0m\u001b[1;33m.\u001b[0m\u001b[0mselect\u001b[0m\u001b[1;33m(\u001b[0m\u001b[1;34m'div.cont > ul.list > li > div > a'\u001b[0m\u001b[1;33m)\u001b[0m\u001b[1;33m[\u001b[0m\u001b[1;36m1\u001b[0m\u001b[1;33m]\u001b[0m\u001b[1;33m)\u001b[0m\u001b[1;33m\u001b[0m\u001b[1;33m\u001b[0m\u001b[0m\n\u001b[0m",
      "\u001b[1;31mIndexError\u001b[0m: list index out of range"
     ]
    }
   ],
   "source": [
    "product_info = str(soup.select('div.cont > ul.list > li > div > a')[1])"
   ]
  },
  {
   "cell_type": "code",
   "execution_count": 149,
   "id": "100a881a",
   "metadata": {},
   "outputs": [
    {
     "data": {
      "text/plain": [
       "'<a href=\"/product/wineView?id=2070\" tabindex=\"0\"><img alt=\"마르셀 다이스 그랑크뤼 쇠넨부르그\" onerror=\"javascript:replaceImage(this, \\'/resources/user/images/product/228x228_coming-soon.png\\');\" src=\"http://www.shinsegae-lnb.com/upload/product/wine/wine/thumbnail/마르셀 다이스 그랑크뤼 쇠넨부르그.png\"/></a>'"
      ]
     },
     "execution_count": 149,
     "metadata": {},
     "output_type": "execute_result"
    }
   ],
   "source": [
    "product_info"
   ]
  },
  {
   "cell_type": "code",
   "execution_count": 152,
   "id": "23108dc3",
   "metadata": {},
   "outputs": [
    {
     "data": {
      "text/plain": [
       "'http://www.shinsegae-lnb.com/product/wineView?id=2070'"
      ]
     },
     "execution_count": 152,
     "metadata": {},
     "output_type": "execute_result"
    }
   ],
   "source": [
    "'http://www.shinsegae-lnb.com'+str(re.findall(r'\\/product+.+\\d{4}',product_info)[0])"
   ]
  },
  {
   "cell_type": "code",
   "execution_count": 3,
   "id": "cab5feb9",
   "metadata": {},
   "outputs": [],
   "source": [
    "driver.get('http://www.shinsegae-lnb.com/product/wineView?id=2058')"
   ]
  },
  {
   "cell_type": "code",
   "execution_count": 4,
   "id": "29de5585",
   "metadata": {},
   "outputs": [],
   "source": [
    "html = driver.page_source"
   ]
  },
  {
   "cell_type": "code",
   "execution_count": 5,
   "id": "b5644564",
   "metadata": {},
   "outputs": [],
   "source": [
    "soup = BeautifulSoup(html, 'html.parser')"
   ]
  },
  {
   "cell_type": "code",
   "execution_count": 161,
   "id": "3728ae75",
   "metadata": {
    "scrolled": true
   },
   "outputs": [
    {
     "name": "stdout",
     "output_type": "stream",
     "text": [
      "와인 한글명 : 카바이 코퍼스 레드\n",
      "와인 영문명 : Kabaj Corpus Red\n",
      "와인 개요 : 슬로베니아 오렌지 와인 거장의 내추럴 와인\n"
     ]
    }
   ],
   "source": [
    "print(\"와인 한글명 : {}\".format(soup.select('div.box1 > dl > dt')[0].text.strip()))\n",
    "print(\"와인 영문명 : {}\".format(soup.select('div.box1 > dl > dd')[0].text.strip()))\n",
    "print(\"와인 개요 : {}\".format(soup.select('div.box1 > dl > dd')[1].text.strip()))"
   ]
  },
  {
   "cell_type": "code",
   "execution_count": 167,
   "id": "59f44ce0",
   "metadata": {},
   "outputs": [
    {
     "name": "stdout",
     "output_type": "stream",
     "text": [
      "Type : 레드 와인\n",
      "포도 품종 : 메를로, 까베르네 프랑, 까베르네 소비뇽\n",
      "용량 : 750ml\n",
      "매칭 음식 : 그릴에 구운 붉은 육류요리나 풍미가 진한 육류\n"
     ]
    }
   ],
   "source": [
    "print(\"Type : {}\".format(soup.select('div.box2 > ul > li.type1 > span')[1].text.strip()))\n",
    "print(\"포도 품종 : {}\".format(soup.select('div.box2 > ul > li.type3 > span')[1].text.strip()))\n",
    "print(\"용량 : {}\".format(soup.select('div.box2 > ul > li.type4 > span')[1].text.strip()))\n",
    "print(\"매칭 음식 : {}\".format(soup.select('div.box2 > ul > li.type5 > span')[1].text.strip()))"
   ]
  },
  {
   "cell_type": "code",
   "execution_count": 11,
   "id": "45ae27bf",
   "metadata": {
    "scrolled": true
   },
   "outputs": [
    {
     "name": "stdout",
     "output_type": "stream",
     "text": [
      "당도 : 1\n",
      "산도 : 3\n",
      "바디 : 4\n"
     ]
    }
   ],
   "source": [
    "print(\"{0} : {1}\".format(soup.select('div.box3 > dl > dt')[0].text.strip(),soup.select('div.box3 > dl > dd > span.on')[0].text.strip()))\n",
    "print(\"{0} : {1}\".format(soup.select('div.box3 > dl > dt')[1].text.strip(),soup.select('div.box3 > dl > dd > span.on')[1].text.strip()))\n",
    "print(\"{0} : {1}\".format(soup.select('div.box3 > dl > dt')[2].text.strip(),soup.select('div.box3 > dl > dd > span.on')[2].text.strip()))"
   ]
  },
  {
   "cell_type": "markdown",
   "id": "23833061",
   "metadata": {},
   "source": [
    "- winary 정보"
   ]
  },
  {
   "cell_type": "code",
   "execution_count": 113,
   "id": "ff4ae78f",
   "metadata": {},
   "outputs": [
    {
     "name": "stdout",
     "output_type": "stream",
     "text": [
      "winary 정보1 : 카바이  Kabaj\n",
      "winary 정보2 : 오렌지 와인의 거장\n",
      "winary 정보3 : 8천년 역사의 고대 조지아 와인 양조법을 그대로 재현\n",
      "winary 정보4 : 세계적인 주류전문지 Wine & Spirits 선정 '올해의 와이너리'\n"
     ]
    }
   ],
   "source": [
    "print(\"winary 정보1 : {}\".format(soup.select(\"div.cont > div.box2 >dl > dt\")[0].text.strip()))\n",
    "print(\"winary 정보2 : {}\".format(soup.select(\"div.cont > div.box2 >dl > dd > ul >li \")[0].text.strip()))\n",
    "print(\"winary 정보3 : {}\".format(soup.select(\"div.cont > div.box2 >dl > dd > ul >li \")[1].text.strip()))\n",
    "print(\"winary 정보4 : {}\".format(soup.select(\"div.cont > div.box2 >dl > dd > ul >li \")[2].text.strip()))"
   ]
  },
  {
   "cell_type": "markdown",
   "id": "912b4b3d",
   "metadata": {},
   "source": [
    "- 유사 와인 리스트"
   ]
  },
  {
   "cell_type": "code",
   "execution_count": 156,
   "id": "4e66a9a0",
   "metadata": {},
   "outputs": [
    {
     "data": {
      "text/html": [
       "<div>\n",
       "<style scoped>\n",
       "    .dataframe tbody tr th:only-of-type {\n",
       "        vertical-align: middle;\n",
       "    }\n",
       "\n",
       "    .dataframe tbody tr th {\n",
       "        vertical-align: top;\n",
       "    }\n",
       "\n",
       "    .dataframe thead th {\n",
       "        text-align: right;\n",
       "    }\n",
       "</style>\n",
       "<table border=\"1\" class=\"dataframe\">\n",
       "  <thead>\n",
       "    <tr style=\"text-align: right;\">\n",
       "      <th></th>\n",
       "      <th>eng_nm</th>\n",
       "      <th>kor_nm</th>\n",
       "    </tr>\n",
       "  </thead>\n",
       "  <tbody>\n",
       "    <tr>\n",
       "      <th>0</th>\n",
       "      <td>Kabaj Sauvignon</td>\n",
       "      <td>카바이 소비뇽</td>\n",
       "    </tr>\n",
       "    <tr>\n",
       "      <th>1</th>\n",
       "      <td>Kabaj Beli Pinot</td>\n",
       "      <td>카바이 벨리 피노</td>\n",
       "    </tr>\n",
       "    <tr>\n",
       "      <th>2</th>\n",
       "      <td>Kabaj Sivi Pinot</td>\n",
       "      <td>카바이 시비 피노</td>\n",
       "    </tr>\n",
       "    <tr>\n",
       "      <th>3</th>\n",
       "      <td>Kabaj Amfora</td>\n",
       "      <td>카바이 암포라</td>\n",
       "    </tr>\n",
       "    <tr>\n",
       "      <th>4</th>\n",
       "      <td>Kabaj Hydra White Pet Nat</td>\n",
       "      <td>카바이 히드라 화이트 펫낫</td>\n",
       "    </tr>\n",
       "  </tbody>\n",
       "</table>\n",
       "</div>"
      ],
      "text/plain": [
       "                      eng_nm          kor_nm\n",
       "0            Kabaj Sauvignon         카바이 소비뇽\n",
       "1           Kabaj Beli Pinot       카바이 벨리 피노\n",
       "2           Kabaj Sivi Pinot       카바이 시비 피노\n",
       "3               Kabaj Amfora         카바이 암포라\n",
       "4  Kabaj Hydra White Pet Nat  카바이 히드라 화이트 펫낫"
      ]
     },
     "execution_count": 156,
     "metadata": {},
     "output_type": "execute_result"
    }
   ],
   "source": [
    "k = len(soup.select(\"div.cont > div.bx-wrapper > div.bx-viewport > ul.recommend_slider > li > dl > dt\"))\n",
    "w_rcm_df = pd.DataFrame(index=range(0,k), columns = {'eng_nm','kor_nm'})\n",
    "\n",
    "for i in range(k) :\n",
    "    w_rcm_df.iloc[i,0] = soup.select(\"div.cont > div.bx-wrapper > div.bx-viewport > ul.recommend_slider > li > dl > dd\")[i].text.strip()\n",
    "    w_rcm_df.iloc[i,1] = soup.select(\"div.cont > div.bx-wrapper > div.bx-viewport > ul.recommend_slider > li > dl > dt\")[i].text.strip()\n",
    "\n",
    "w_rcm_df.head(5)"
   ]
  }
 ],
 "metadata": {
  "kernelspec": {
   "display_name": "Python 3 (ipykernel)",
   "language": "python",
   "name": "python3"
  },
  "language_info": {
   "codemirror_mode": {
    "name": "ipython",
    "version": 3
   },
   "file_extension": ".py",
   "mimetype": "text/x-python",
   "name": "python",
   "nbconvert_exporter": "python",
   "pygments_lexer": "ipython3",
   "version": "3.9.7"
  }
 },
 "nbformat": 4,
 "nbformat_minor": 5
}
