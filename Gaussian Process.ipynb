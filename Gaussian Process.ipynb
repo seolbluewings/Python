{
 "cells": [
  {
   "cell_type": "code",
   "execution_count": 1,
   "metadata": {},
   "outputs": [],
   "source": [
    "import numpy as np\n",
    "import matplotlib.pyplot as plt\n",
    "from numpy.linalg import inv"
   ]
  },
  {
   "cell_type": "markdown",
   "metadata": {},
   "source": [
    "### Gaussian Process Regression"
   ]
  },
  {
   "cell_type": "markdown",
   "metadata": {},
   "source": [
    "#### scikit-learn의 Gaussian Process Regression 패키지 활용\n",
    "- Gaussian Process 를 위해 GaussianProcessRegressor 모듈 import \n",
    "- 그리고 Kernel 구성을 위해 커널 모듈을 import 함"
   ]
  },
  {
   "cell_type": "code",
   "execution_count": 2,
   "metadata": {},
   "outputs": [],
   "source": [
    "from sklearn.gaussian_process import GaussianProcessRegressor\n",
    "from sklearn.gaussian_process.kernels import ConstantKernel, RBF"
   ]
  },
  {
   "cell_type": "markdown",
   "metadata": {},
   "source": [
    "plot을 그리기 위한 함수 정의 "
   ]
  },
  {
   "cell_type": "code",
   "execution_count": 27,
   "metadata": {},
   "outputs": [],
   "source": [
    "def plot_gp(mu, cov, X, X_train=None, Y_train=None, samples=[]):\n",
    "    X = X.ravel()\n",
    "    mu = mu.ravel()\n",
    "    uncertainty = 1.96 * np.sqrt(np.diag(cov))\n",
    "    \n",
    "    plt.fill_between(X, mu + uncertainty, mu - uncertainty, alpha=0.1)\n",
    "    plt.plot(X, mu, label='Mean')\n",
    "    for i, sample in enumerate(samples):\n",
    "        plt.plot(X, sample, lw=1, ls='--', label=f'Sample {i+1}')\n",
    "    if X_train is not None:\n",
    "        plt.plot(X_train, Y_train, 'rx')\n",
    "    plt.legend()"
   ]
  },
  {
   "cell_type": "markdown",
   "metadata": {},
   "source": [
    "- noise $\\epsilon$ 값 설정\n",
    "- 훈련 데이터(x_tr, y_tr) 데이터 생성"
   ]
  },
  {
   "cell_type": "code",
   "execution_count": 3,
   "metadata": {},
   "outputs": [],
   "source": [
    "noise = 0.4\n",
    "x_tr = np.arange(-2,1,0.2).reshape(-1,1)\n",
    "y_tr = np.sin(x_tr) + noise*np.random.randn(*x_tr.shape)"
   ]
  },
  {
   "cell_type": "markdown",
   "metadata": {},
   "source": [
    "- GP 모델 적용을 위해서는 prior에 대한 정의가 필요\n",
    "- Prior의 평균을 0으로 설정하려면, GaussianProcessRegressor() 함수 안의 normalize_y = False 옵션(default)\n",
    "- alpha는 아래 수식에서의 $\\beta$ 에 해당"
   ]
  },
  {
   "cell_type": "markdown",
   "metadata": {},
   "source": [
    "$p(t_{n+1}\\vert t_{1},...,t_{n}) \\sim \\mathcal{N}\\left(\\mu(t_{n+1}),\\sigma^{2}(t_{n+1}\\right)$ \\<br>\n",
    "\n",
    "$\\mu(t_{n+1}) = \\mathbf{k}^{T}\\text{Cov}_{n}^{-1}\\mathbf{t}_{n}$ \\<br>\n",
    "\n",
    "$\\sigma^{2}(t_{n+1}) = k_{(n+1)(n+1)}+\\beta - \\mathbf{k}^{T}\\text{Cov}_{n}^{-1}\\mathbf{k}$"
   ]
  },
  {
   "cell_type": "code",
   "execution_count": 4,
   "metadata": {},
   "outputs": [],
   "source": [
    "ker = ConstantKernel(1.0)*RBF(length_scale = 1.0)\n",
    "gpr = GaussianProcessRegressor(kernel = ker, alpha = noise**2)"
   ]
  },
  {
   "cell_type": "markdown",
   "metadata": {},
   "source": [
    "- fit 함수를 이용해서 Gaussian Process Regression 모델 적합"
   ]
  },
  {
   "cell_type": "code",
   "execution_count": 5,
   "metadata": {
    "scrolled": false
   },
   "outputs": [
    {
     "data": {
      "text/plain": [
       "GaussianProcessRegressor(alpha=0.16000000000000003,\n",
       "                         kernel=1**2 * RBF(length_scale=1))"
      ]
     },
     "execution_count": 5,
     "metadata": {},
     "output_type": "execute_result"
    }
   ],
   "source": [
    "gpr.fit(x_tr, y_tr)"
   ]
  },
  {
   "cell_type": "markdown",
   "metadata": {},
   "source": [
    "- 예측하고 싶은 새로운 데이터를 생성\n",
    "- 새로운 값이 존재하는 범위에서의 함수의 분포를 알아보고자 한다.\n",
    "- 기존 훈련 데이터 값이 있었던 범위라면, 그곳에서 추정하는 함수의 변동성은 작을 것이다\n",
    "- 기존 훈련 데이터 값이 없었던 범위라면, 해당 범위에서의 추정하는 함수의 변동성은 클 것"
   ]
  },
  {
   "cell_type": "code",
   "execution_count": 12,
   "metadata": {},
   "outputs": [],
   "source": [
    "y = np.arange(-3, 3, 0.2).reshape(-1,1)"
   ]
  },
  {
   "cell_type": "markdown",
   "metadata": {},
   "source": [
    "- Gaussain Porcess Regression을 통한 예측\n",
    "- 예측하고자 하는 포인트에 대해서 넣어주고, joint predictive distribution의 covariance 부분을 받기 위해서 옵션을 True로 설정해준다"
   ]
  },
  {
   "cell_type": "code",
   "execution_count": 13,
   "metadata": {},
   "outputs": [],
   "source": [
    "mu_s, cov_s = gpr.predict(y, return_cov = True)"
   ]
  },
  {
   "cell_type": "code",
   "execution_count": 26,
   "metadata": {},
   "outputs": [
    {
     "name": "stdout",
     "output_type": "stream",
     "text": [
      "optimal kernel parameter of l : 1.455\n",
      "optimal kernel parameter of sigma_f : 0.833\n"
     ]
    }
   ],
   "source": [
    "sigma_f_opt = np.sqrt(gpr.kernel_.k1.get_params()['constant_value'])\n",
    "l_opt = gpr.kernel_.k2.get_params()['length_scale']\n",
    "\n",
    "print(\"optimal kernel parameter of l : {:.3f}\".format(l_opt))\n",
    "print(\"optimal kernel parameter of sigma_f : {:.3f}\".format(sigma_f_opt))"
   ]
  },
  {
   "cell_type": "markdown",
   "metadata": {},
   "source": [
    "plot을 그려본 결과, 관측 데이터 포인트가 있어 학습이 이루어진 곳에서 함수 추정 불확실성이 줄어든 것을 확인할 수 있다. "
   ]
  },
  {
   "cell_type": "code",
   "execution_count": 11,
   "metadata": {
    "scrolled": false
   },
   "outputs": [
    {
     "data": {
      "image/png": "[encoded data removed]",
      "text/plain": [
       "<Figure size 432x288 with 1 Axes>"
      ]
     },
     "metadata": {
      "needs_background": "light"
     },
     "output_type": "display_data"
    }
   ],
   "source": [
    "plot_gp(mu_s, cov_s, y, X_train = x_tr, Y_train = y_tr)"
   ]
  },
  {
   "cell_type": "markdown",
   "metadata": {},
   "source": [
    "학습시키는 훈련 데이터를 증가하면, 훈련 데이터가 있는 범위에서의 불확실성은 더욱 줄어든다."
   ]
  },
  {
   "cell_type": "code",
   "execution_count": 32,
   "metadata": {},
   "outputs": [],
   "source": [
    "noise = 0.4\n",
    "x_tr = np.arange(-2,3,0.1).reshape(-1,1)\n",
    "y_tr = np.sin(x_tr) + noise*np.random.randn(*x_tr.shape)"
   ]
  },
  {
   "cell_type": "code",
   "execution_count": 33,
   "metadata": {},
   "outputs": [
    {
     "data": {
      "text/plain": [
       "GaussianProcessRegressor(alpha=0.16000000000000003,\n",
       "                         kernel=1**2 * RBF(length_scale=1))"
      ]
     },
     "execution_count": 33,
     "metadata": {},
     "output_type": "execute_result"
    }
   ],
   "source": [
    "ker = ConstantKernel(1.0)*RBF(length_scale = 1.0)\n",
    "gpr = GaussianProcessRegressor(kernel = ker, alpha = noise**2)\n",
    "gpr.fit(x_tr, y_tr)"
   ]
  },
  {
   "cell_type": "code",
   "execution_count": 34,
   "metadata": {},
   "outputs": [],
   "source": [
    "mu_s, cov_s = gpr.predict(y, return_cov = True)"
   ]
  },
  {
   "cell_type": "code",
   "execution_count": 35,
   "metadata": {},
   "outputs": [
    {
     "data": {
      "image/png": "[encoded data removed]",
      "text/plain": [
       "<Figure size 432x288 with 1 Axes>"
      ]
     },
     "metadata": {
      "needs_background": "light"
     },
     "output_type": "display_data"
    }
   ],
   "source": [
    "plot_gp(mu_s, cov_s, y, X_train = x_tr, Y_train = y_tr)"
   ]
  },
  {
   "cell_type": "markdown",
   "metadata": {},
   "source": [
    "### Gaussian Process Classifier"
   ]
  },
  {
   "cell_type": "code",
   "execution_count": 2,
   "metadata": {},
   "outputs": [],
   "source": [
    "import numpy as np\n",
    "import matplotlib.pyplot as plt\n",
    "\n",
    "from scipy.stats import bernoulli\n",
    "from sklearn.gaussian_process import GaussianProcessClassifier\n",
    "from sklearn.gaussian_process.kernels import ConstantKernel, RBF"
   ]
  },
  {
   "cell_type": "markdown",
   "metadata": {},
   "source": [
    "- data set generate"
   ]
  },
  {
   "cell_type": "code",
   "execution_count": 38,
   "metadata": {},
   "outputs": [],
   "source": [
    "np.random.seed(50120057)\n",
    "\n",
    "x = np.arange(0,5,0.2).reshape(-1,1)\n",
    "x_ts = np.arange(-2,7,0.1).reshape(-1,1)\n",
    "\n",
    "a = 2*np.sin(x*np.pi*0.5)\n",
    "t = bernoulli.rvs(1/(1+np.exp(-a)))"
   ]
  },
  {
   "cell_type": "code",
   "execution_count": 39,
   "metadata": {},
   "outputs": [],
   "source": [
    "def plot_data_1D(X,t) :\n",
    "    class_0 = t == 0\n",
    "    class_1 = t == 1\n",
    "    \n",
    "    plt.scatter(X[class_1], t[class_1], label = 'Class 1', marker = 'x', color= 'red')\n",
    "    plt.scatter(X[class_0], t[class_0], label = 'Class 0', marker = 'o', edgecolors= 'blue', facecolors = 'none')"
   ]
  },
  {
   "cell_type": "code",
   "execution_count": 40,
   "metadata": {},
   "outputs": [
    {
     "data": {
      "text/plain": [
       "<matplotlib.legend.Legend at 0x1f0d2102a20>"
      ]
     },
     "execution_count": 40,
     "metadata": {},
     "output_type": "execute_result"
    },
    {
     "data": {
      "image/png": "[encoded data removed]",
      "text/plain": [
       "<Figure size 432x288 with 1 Axes>"
      ]
     },
     "metadata": {
      "needs_background": "light"
     },
     "output_type": "display_data"
    }
   ],
   "source": [
    "plot_data_1D(x,t)\n",
    "plt.title('1D training dataset')\n",
    "plt.xlabel('$x$')\n",
    "plt.ylabel('$t$')\n",
    "plt.yticks([0,1])\n",
    "plt.legend()"
   ]
  },
  {
   "cell_type": "code",
   "execution_count": 41,
   "metadata": {},
   "outputs": [
    {
     "data": {
      "text/plain": [
       "GaussianProcessClassifier(kernel=1**2 * RBF(length_scale=1))"
      ]
     },
     "execution_count": 41,
     "metadata": {},
     "output_type": "execute_result"
    }
   ],
   "source": [
    "rbf = ConstantKernel(1.0)*RBF(length_scale = 1.0)\n",
    "gpc = GaussianProcessClassifier(kernel = rbf)\n",
    "\n",
    "gpc.fit(x, t.ravel())"
   ]
  },
  {
   "cell_type": "code",
   "execution_count": 42,
   "metadata": {},
   "outputs": [
    {
     "data": {
      "text/plain": [
       "<matplotlib.legend.Legend at 0x1f0d2173400>"
      ]
     },
     "execution_count": 42,
     "metadata": {},
     "output_type": "execute_result"
    },
    {
     "data": {
      "image/png": "[encoded data removed]",
      "text/plain": [
       "<Figure size 432x288 with 1 Axes>"
      ]
     },
     "metadata": {
      "needs_background": "light"
     },
     "output_type": "display_data"
    }
   ],
   "source": [
    "pt_test_gpc = gpc.predict_proba(x_ts.reshape(-1,1))[:,-1]\n",
    "\n",
    "plot_data_1D(x,t)\n",
    "plt.plot(x_ts, pt_test_gpc, label = 'Prediction(GPC)', color = 'green')\n",
    "plt.axhline(0.5, x_ts.min(), x_ts.max(), color = 'black', ls = '--', lw = 0.5)\n",
    "plt.title('Gaussian Process Classifier')\n",
    "plt.xlabel('x')\n",
    "plt.ylabel('$p(t^{*}=1\\vert\\mathbf{t})$')\n",
    "plt.legend()"
   ]
  },
  {
   "cell_type": "code",
   "execution_count": null,
   "metadata": {},
   "outputs": [],
   "source": []
  }
 ],
 "metadata": {
  "kernelspec": {
   "display_name": "Python 3",
   "language": "python",
   "name": "python3"
  },
  "language_info": {
   "codemirror_mode": {
    "name": "ipython",
    "version": 3
   },
   "file_extension": ".py",
   "mimetype": "text/x-python",
   "name": "python",
   "nbconvert_exporter": "python",
   "pygments_lexer": "ipython3",
   "version": "3.7.3"
  }
 },
 "nbformat": 4,
 "nbformat_minor": 2
}
